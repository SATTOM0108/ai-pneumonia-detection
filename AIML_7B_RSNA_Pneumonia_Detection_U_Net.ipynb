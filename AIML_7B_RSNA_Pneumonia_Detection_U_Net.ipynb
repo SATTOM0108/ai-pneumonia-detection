{
  "nbformat": 4,
  "nbformat_minor": 0,
  "metadata": {
    "kernelspec": {
      "language": "python",
      "display_name": "Python 3",
      "name": "python3"
    },
    "language_info": {
      "pygments_lexer": "ipython3",
      "nbconvert_exporter": "python",
      "version": "3.6.4",
      "file_extension": ".py",
      "codemirror_mode": {
        "name": "ipython",
        "version": 3
      },
      "name": "python",
      "mimetype": "text/x-python"
    },
    "colab": {
      "name": "AIML 7B RSNA - Pneumonia Detection U- Net.ipynb",
      "provenance": [],
      "include_colab_link": true
    }
  },
  "cells": [
    {
      "cell_type": "markdown",
      "metadata": {
        "id": "view-in-github",
        "colab_type": "text"
      },
      "source": [
        "<a href=\"https://colab.research.google.com/github/maneshnambiar/ai-pneumonia-detection/blob/master/AIML_7B_RSNA_Pneumonia_Detection_U_Net.ipynb\" target=\"_parent\"><img src=\"https://colab.research.google.com/assets/colab-badge.svg\" alt=\"Open In Colab\"/></a>"
      ]
    },
    {
      "cell_type": "code",
      "metadata": {
        "trusted": true,
        "id": "r2UIH1Ag25ZY",
        "colab_type": "code",
        "colab": {}
      },
      "source": [
        "\n",
        "import os\n",
        "import random\n",
        "import csv\n",
        "import pydicom\n",
        "import numpy as np\n",
        "from skimage.transform import resize"
      ],
      "execution_count": 0,
      "outputs": []
    },
    {
      "cell_type": "markdown",
      "metadata": {
        "id": "J9aTR_Rm25Zd",
        "colab_type": "text"
      },
      "source": [
        "Import of All the Libraries necessary "
      ]
    },
    {
      "cell_type": "markdown",
      "metadata": {
        "id": "VYl2xa6t25Zd",
        "colab_type": "text"
      },
      "source": [
        "Load Table,tag pneumonia label to dictionary"
      ]
    },
    {
      "cell_type": "code",
      "metadata": {
        "id": "oO_I_6mWDGa2",
        "trusted": true,
        "colab_type": "code",
        "colab": {}
      },
      "source": [
        "# empty dictionary\n",
        "pneumonia_locations = {}\n",
        "# load table\n",
        "with open(os.path.join('../input/rsna-pneumonia-detection-challenge/stage_2_train_labels.csv'), mode='r') as infile:\n",
        "    # open reader\n",
        "    reader = csv.reader(infile)\n",
        "    # skip header\n",
        "    next(reader, None)\n",
        "    # loop through rows\n",
        "    for rows in reader:\n",
        "        # retrieve information\n",
        "        filename = rows[0]\n",
        "        location = rows[1:5]\n",
        "        pneumonia = rows[5]\n",
        "        # if row contains pneumonia add label to dictionary\n",
        "        # which contains a list of pneumonia locations per filename\n",
        "        if pneumonia == '1':\n",
        "            # convert string to float to int\n",
        "            location = [int(float(i)) for i in location]\n",
        "            # save pneumonia location in dictionary\n",
        "            if filename in pneumonia_locations:\n",
        "                pneumonia_locations[filename].append(location)\n",
        "            else:\n",
        "                pneumonia_locations[filename] = [location]"
      ],
      "execution_count": 0,
      "outputs": []
    },
    {
      "cell_type": "markdown",
      "metadata": {
        "id": "0XdVvMkv25Zh",
        "colab_type": "text"
      },
      "source": [
        "Import Keras, and layers"
      ]
    },
    {
      "cell_type": "code",
      "metadata": {
        "id": "_WfCrRD5i25V",
        "outputId": "e89e7064-2edd-41ac-a362-8a2c15a7b7ed",
        "trusted": true,
        "colab_type": "code",
        "colab": {}
      },
      "source": [
        "import keras\n",
        "import tensorflow as tf\n",
        "from keras.models import Model\n",
        "from keras.layers import Input, BatchNormalization, Activation, Dense, Dropout\n",
        "from keras.layers.convolutional import Conv2D, Conv2DTranspose\n",
        "from keras.layers.pooling import MaxPooling2D, GlobalMaxPool2D\n",
        "from keras.layers.merge import concatenate, add\n",
        "from keras.callbacks import EarlyStopping, ModelCheckpoint\n",
        "from keras.optimizers import Adam"
      ],
      "execution_count": 0,
      "outputs": [
        {
          "output_type": "stream",
          "text": [
            "/opt/conda/lib/python3.6/site-packages/h5py/__init__.py:36: FutureWarning: Conversion of the second argument of issubdtype from `float` to `np.floating` is deprecated. In future, it will be treated as `np.float64 == np.dtype(float).type`.\n",
            "  from ._conv import register_converters as _register_converters\n",
            "Using TensorFlow backend.\n"
          ],
          "name": "stderr"
        }
      ]
    },
    {
      "cell_type": "markdown",
      "metadata": {
        "id": "bIVN926b25Zp",
        "colab_type": "text"
      },
      "source": [
        "****Fucntion for\n",
        "1. 1.Load Dicom file as numpy array\n",
        "1. 2.create empty mask\n",
        "1. 3.parse files one by one\n",
        "1. 4.Return image and mask"
      ]
    },
    {
      "cell_type": "code",
      "metadata": {
        "id": "mOLF-cjYMis7",
        "trusted": true,
        "colab_type": "code",
        "colab": {}
      },
      "source": [
        "class generator_single_channel(keras.utils.Sequence):\n",
        "    \n",
        "    def __init__(self, folder, filenames, pneumonia_locations=None, batch_size=32,\n",
        "                 image_size=256, shuffle=True, predict=False):\n",
        "        self.folder = folder\n",
        "        self.filenames = filenames\n",
        "        self.pneumonia_locations = pneumonia_locations\n",
        "        self.batch_size = batch_size\n",
        "        self.image_size = image_size\n",
        "        self.shuffle = shuffle\n",
        "        self.predict = predict\n",
        "        self.on_epoch_end()\n",
        "        \n",
        "    def __load__(self, filename):\n",
        "        # load dicom file as numpy array\n",
        "        img = pydicom.dcmread(os.path.join(self.folder, filename)).pixel_array\n",
        "        # create empty mask\n",
        "        msk = np.zeros(img.shape)\n",
        "        # get filename without extension\n",
        "        filename = filename.split('.')[0]\n",
        "        # if image contains pneumonia\n",
        "        is_pneumonia = int(0)\n",
        "        if filename in self.pneumonia_locations:\n",
        "            # loop through pneumonia\n",
        "            is_pneumonia = int(1)\n",
        "            for location in self.pneumonia_locations[filename]:\n",
        "                # add 1's at the location of the pneumonia\n",
        "                x, y, w, h = location\n",
        "                msk[y:y+h, x:x+w] = 1\n",
        "        # resize both image and mask\n",
        "        img = resize(img, (self.image_size, self.image_size), mode='reflect')\n",
        "        msk = resize(msk, (self.image_size, self.image_size), mode='reflect')\n",
        "        # if augment then horizontal flip half the time\n",
        "        # if self.augment and random.random() > 0.5:\n",
        "        #     img = np.fliplr(img)\n",
        "        #     msk = np.fliplr(msk)\n",
        "\n",
        "        # add trailing channel dimension\n",
        "        img = np.expand_dims(img, axis=-1)\n",
        "        msk = np.expand_dims(msk, axis=-1)\n",
        "        is_pneumonia = np.array(is_pneumonia)\n",
        "\n",
        "        return img, msk\n",
        "    \n",
        "    def __loadpredict__(self, filename):\n",
        "        # load dicom file as numpy array\n",
        "        img = pydicom.dcmread(os.path.join(self.folder, filename)).pixel_array\n",
        "        # resize image\n",
        "        img = resize(img, (self.image_size, self.image_size), mode='reflect')\n",
        "        # add trailing channel dimension\n",
        "        img = np.expand_dims(img, axis=-1)\n",
        "        \n",
        "        return img\n",
        "        \n",
        "    def __getitem__(self, index):\n",
        "        # select batch\n",
        "        filenames = self.filenames[index*self.batch_size:(index+1)*self.batch_size]\n",
        "        # predict mode: return images and filenames\n",
        "        if self.predict:\n",
        "            # load files\n",
        "            imgs = [self.__loadpredict__(filename) for filename in filenames]\n",
        "            # create numpy batch\n",
        "            imgs = np.array(imgs)\n",
        "            \n",
        "            return imgs,filenames\n",
        "        # train mode: return images and masks\n",
        "        else:\n",
        "            # load files\n",
        "            items = [self.__load__(filename) for filename in filenames]\n",
        "            # unzip images and masks\n",
        "            imgs, msks = zip(*items)\n",
        "            # create numpy batch\n",
        "            imgs = np.array(imgs)\n",
        "            msks = np.array(msks)\n",
        "\n",
        "            return imgs,msks\n",
        "        \n",
        "    def on_epoch_end(self):\n",
        "        if self.shuffle:\n",
        "            random.shuffle(self.filenames)\n",
        "        \n",
        "    def __len__(self):\n",
        "        if self.predict:\n",
        "            # return everything\n",
        "            return int(np.ceil(len(self.filenames) / self.batch_size))\n",
        "        else:\n",
        "            # return full batches only\n",
        "            return int(len(self.filenames) / self.batch_size)"
      ],
      "execution_count": 0,
      "outputs": []
    },
    {
      "cell_type": "markdown",
      "metadata": {
        "id": "n5Ejlv9z25Zu",
        "colab_type": "text"
      },
      "source": [
        "**Finetuning**\n",
        "**Model defn**"
      ]
    },
    {
      "cell_type": "code",
      "metadata": {
        "trusted": true,
        "id": "dBi-gjk225Zv",
        "colab_type": "code",
        "colab": {}
      },
      "source": [
        "def conv2d_block(input_tensor, n_filters, kernel_size=3, batchnorm=True):\n",
        "    # first layer\n",
        "    x = Conv2D(filters=n_filters, kernel_size=(kernel_size, kernel_size), kernel_initializer=\"he_normal\",\n",
        "               padding=\"same\")(input_tensor)\n",
        "    if batchnorm:\n",
        "        x = BatchNormalization()(x)\n",
        "    x = Activation(\"relu\")(x)\n",
        "    # second layer\n",
        "    x = Conv2D(filters=n_filters, kernel_size=(kernel_size, kernel_size), kernel_initializer=\"he_normal\",\n",
        "               padding=\"same\")(x)\n",
        "    if batchnorm:\n",
        "        x = BatchNormalization()(x)\n",
        "    x = Activation(\"relu\")(x)\n",
        "    return x"
      ],
      "execution_count": 0,
      "outputs": []
    },
    {
      "cell_type": "markdown",
      "metadata": {
        "id": "QB42ISs225Z1",
        "colab_type": "text"
      },
      "source": [
        "**U net is the model of choice**"
      ]
    },
    {
      "cell_type": "code",
      "metadata": {
        "trusted": true,
        "id": "UtRgUyGO25Z2",
        "colab_type": "code",
        "colab": {}
      },
      "source": [
        "def get_unet(input_img, n_filters=16, dropout=0.5, batchnorm=True):\n",
        "    # contracting path\n",
        "    c1 = conv2d_block(input_img, n_filters=n_filters*1, kernel_size=3, batchnorm=batchnorm)\n",
        "    p1 = MaxPooling2D((2, 2)) (c1)\n",
        "    p1 = Dropout(dropout*0.5)(p1)\n",
        "\n",
        "    c2 = conv2d_block(p1, n_filters=n_filters*2, kernel_size=3, batchnorm=batchnorm)\n",
        "    p2 = MaxPooling2D((2, 2)) (c2)\n",
        "    p2 = Dropout(dropout)(p2)\n",
        "\n",
        "    c3 = conv2d_block(p2, n_filters=n_filters*4, kernel_size=3, batchnorm=batchnorm)\n",
        "    p3 = MaxPooling2D((2, 2)) (c3)\n",
        "    p3 = Dropout(dropout)(p3)\n",
        "\n",
        "    c4 = conv2d_block(p3, n_filters=n_filters*8, kernel_size=3, batchnorm=batchnorm)\n",
        "    p4 = MaxPooling2D(pool_size=(2, 2)) (c4)\n",
        "    p4 = Dropout(dropout)(p4)\n",
        "    \n",
        "    c5 = conv2d_block(p4, n_filters=n_filters*16, kernel_size=3, batchnorm=batchnorm)\n",
        "    \n",
        "    # expansive path\n",
        "    u6 = Conv2DTranspose(n_filters*8, (3, 3), strides=(2, 2), padding='same') (c5)\n",
        "    u6 = concatenate([u6, c4])\n",
        "    u6 = Dropout(dropout)(u6)\n",
        "    c6 = conv2d_block(u6, n_filters=n_filters*8, kernel_size=3, batchnorm=batchnorm)\n",
        "\n",
        "    u7 = Conv2DTranspose(n_filters*4, (3, 3), strides=(2, 2), padding='same') (c6)\n",
        "    u7 = concatenate([u7, c3])\n",
        "    u7 = Dropout(dropout)(u7)\n",
        "    c7 = conv2d_block(u7, n_filters=n_filters*4, kernel_size=3, batchnorm=batchnorm)\n",
        "\n",
        "    u8 = Conv2DTranspose(n_filters*2, (3, 3), strides=(2, 2), padding='same') (c7)\n",
        "    u8 = concatenate([u8, c2])\n",
        "    u8 = Dropout(dropout)(u8)\n",
        "    c8 = conv2d_block(u8, n_filters=n_filters*2, kernel_size=3, batchnorm=batchnorm)\n",
        "\n",
        "    u9 = Conv2DTranspose(n_filters*1, (3, 3), strides=(2, 2), padding='same') (c8)\n",
        "    u9 = concatenate([u9, c1], axis=3)\n",
        "    u9 = Dropout(dropout)(u9)\n",
        "    c9 = conv2d_block(u9, n_filters=n_filters*1, kernel_size=3, batchnorm=batchnorm)\n",
        "    \n",
        "    outputs = Conv2D(1, (1, 1), activation='sigmoid') (c9)\n",
        "    model = Model(inputs=[input_img], outputs=[outputs])\n",
        "    return model"
      ],
      "execution_count": 0,
      "outputs": []
    },
    {
      "cell_type": "code",
      "metadata": {
        "trusted": true,
        "id": "JAaI3_nk25Z6",
        "colab_type": "code",
        "colab": {},
        "outputId": "f56d941b-879f-4c2a-9cc2-426cb0f14e42"
      },
      "source": [
        "input_img = Input((224, 224, 1), name='img')\n",
        "model = get_unet(input_img, n_filters=16, dropout=0.05, batchnorm=True)\n",
        "model.summary()"
      ],
      "execution_count": 0,
      "outputs": [
        {
          "output_type": "stream",
          "text": [
            "__________________________________________________________________________________________________\n",
            "Layer (type)                    Output Shape         Param #     Connected to                     \n",
            "==================================================================================================\n",
            "img (InputLayer)                (None, 224, 224, 1)  0                                            \n",
            "__________________________________________________________________________________________________\n",
            "conv2d_1 (Conv2D)               (None, 224, 224, 16) 160         img[0][0]                        \n",
            "__________________________________________________________________________________________________\n",
            "batch_normalization_1 (BatchNor (None, 224, 224, 16) 64          conv2d_1[0][0]                   \n",
            "__________________________________________________________________________________________________\n",
            "activation_1 (Activation)       (None, 224, 224, 16) 0           batch_normalization_1[0][0]      \n",
            "__________________________________________________________________________________________________\n",
            "conv2d_2 (Conv2D)               (None, 224, 224, 16) 2320        activation_1[0][0]               \n",
            "__________________________________________________________________________________________________\n",
            "batch_normalization_2 (BatchNor (None, 224, 224, 16) 64          conv2d_2[0][0]                   \n",
            "__________________________________________________________________________________________________\n",
            "activation_2 (Activation)       (None, 224, 224, 16) 0           batch_normalization_2[0][0]      \n",
            "__________________________________________________________________________________________________\n",
            "max_pooling2d_1 (MaxPooling2D)  (None, 112, 112, 16) 0           activation_2[0][0]               \n",
            "__________________________________________________________________________________________________\n",
            "dropout_1 (Dropout)             (None, 112, 112, 16) 0           max_pooling2d_1[0][0]            \n",
            "__________________________________________________________________________________________________\n",
            "conv2d_3 (Conv2D)               (None, 112, 112, 32) 4640        dropout_1[0][0]                  \n",
            "__________________________________________________________________________________________________\n",
            "batch_normalization_3 (BatchNor (None, 112, 112, 32) 128         conv2d_3[0][0]                   \n",
            "__________________________________________________________________________________________________\n",
            "activation_3 (Activation)       (None, 112, 112, 32) 0           batch_normalization_3[0][0]      \n",
            "__________________________________________________________________________________________________\n",
            "conv2d_4 (Conv2D)               (None, 112, 112, 32) 9248        activation_3[0][0]               \n",
            "__________________________________________________________________________________________________\n",
            "batch_normalization_4 (BatchNor (None, 112, 112, 32) 128         conv2d_4[0][0]                   \n",
            "__________________________________________________________________________________________________\n",
            "activation_4 (Activation)       (None, 112, 112, 32) 0           batch_normalization_4[0][0]      \n",
            "__________________________________________________________________________________________________\n",
            "max_pooling2d_2 (MaxPooling2D)  (None, 56, 56, 32)   0           activation_4[0][0]               \n",
            "__________________________________________________________________________________________________\n",
            "dropout_2 (Dropout)             (None, 56, 56, 32)   0           max_pooling2d_2[0][0]            \n",
            "__________________________________________________________________________________________________\n",
            "conv2d_5 (Conv2D)               (None, 56, 56, 64)   18496       dropout_2[0][0]                  \n",
            "__________________________________________________________________________________________________\n",
            "batch_normalization_5 (BatchNor (None, 56, 56, 64)   256         conv2d_5[0][0]                   \n",
            "__________________________________________________________________________________________________\n",
            "activation_5 (Activation)       (None, 56, 56, 64)   0           batch_normalization_5[0][0]      \n",
            "__________________________________________________________________________________________________\n",
            "conv2d_6 (Conv2D)               (None, 56, 56, 64)   36928       activation_5[0][0]               \n",
            "__________________________________________________________________________________________________\n",
            "batch_normalization_6 (BatchNor (None, 56, 56, 64)   256         conv2d_6[0][0]                   \n",
            "__________________________________________________________________________________________________\n",
            "activation_6 (Activation)       (None, 56, 56, 64)   0           batch_normalization_6[0][0]      \n",
            "__________________________________________________________________________________________________\n",
            "max_pooling2d_3 (MaxPooling2D)  (None, 28, 28, 64)   0           activation_6[0][0]               \n",
            "__________________________________________________________________________________________________\n",
            "dropout_3 (Dropout)             (None, 28, 28, 64)   0           max_pooling2d_3[0][0]            \n",
            "__________________________________________________________________________________________________\n",
            "conv2d_7 (Conv2D)               (None, 28, 28, 128)  73856       dropout_3[0][0]                  \n",
            "__________________________________________________________________________________________________\n",
            "batch_normalization_7 (BatchNor (None, 28, 28, 128)  512         conv2d_7[0][0]                   \n",
            "__________________________________________________________________________________________________\n",
            "activation_7 (Activation)       (None, 28, 28, 128)  0           batch_normalization_7[0][0]      \n",
            "__________________________________________________________________________________________________\n",
            "conv2d_8 (Conv2D)               (None, 28, 28, 128)  147584      activation_7[0][0]               \n",
            "__________________________________________________________________________________________________\n",
            "batch_normalization_8 (BatchNor (None, 28, 28, 128)  512         conv2d_8[0][0]                   \n",
            "__________________________________________________________________________________________________\n",
            "activation_8 (Activation)       (None, 28, 28, 128)  0           batch_normalization_8[0][0]      \n",
            "__________________________________________________________________________________________________\n",
            "max_pooling2d_4 (MaxPooling2D)  (None, 14, 14, 128)  0           activation_8[0][0]               \n",
            "__________________________________________________________________________________________________\n",
            "dropout_4 (Dropout)             (None, 14, 14, 128)  0           max_pooling2d_4[0][0]            \n",
            "__________________________________________________________________________________________________\n",
            "conv2d_9 (Conv2D)               (None, 14, 14, 256)  295168      dropout_4[0][0]                  \n",
            "__________________________________________________________________________________________________\n",
            "batch_normalization_9 (BatchNor (None, 14, 14, 256)  1024        conv2d_9[0][0]                   \n",
            "__________________________________________________________________________________________________\n",
            "activation_9 (Activation)       (None, 14, 14, 256)  0           batch_normalization_9[0][0]      \n",
            "__________________________________________________________________________________________________\n",
            "conv2d_10 (Conv2D)              (None, 14, 14, 256)  590080      activation_9[0][0]               \n",
            "__________________________________________________________________________________________________\n",
            "batch_normalization_10 (BatchNo (None, 14, 14, 256)  1024        conv2d_10[0][0]                  \n",
            "__________________________________________________________________________________________________\n",
            "activation_10 (Activation)      (None, 14, 14, 256)  0           batch_normalization_10[0][0]     \n",
            "__________________________________________________________________________________________________\n",
            "conv2d_transpose_1 (Conv2DTrans (None, 28, 28, 128)  295040      activation_10[0][0]              \n",
            "__________________________________________________________________________________________________\n",
            "concatenate_1 (Concatenate)     (None, 28, 28, 256)  0           conv2d_transpose_1[0][0]         \n",
            "                                                                 activation_8[0][0]               \n",
            "__________________________________________________________________________________________________\n",
            "dropout_5 (Dropout)             (None, 28, 28, 256)  0           concatenate_1[0][0]              \n",
            "__________________________________________________________________________________________________\n",
            "conv2d_11 (Conv2D)              (None, 28, 28, 128)  295040      dropout_5[0][0]                  \n",
            "__________________________________________________________________________________________________\n",
            "batch_normalization_11 (BatchNo (None, 28, 28, 128)  512         conv2d_11[0][0]                  \n",
            "__________________________________________________________________________________________________\n",
            "activation_11 (Activation)      (None, 28, 28, 128)  0           batch_normalization_11[0][0]     \n",
            "__________________________________________________________________________________________________\n",
            "conv2d_12 (Conv2D)              (None, 28, 28, 128)  147584      activation_11[0][0]              \n",
            "__________________________________________________________________________________________________\n",
            "batch_normalization_12 (BatchNo (None, 28, 28, 128)  512         conv2d_12[0][0]                  \n",
            "__________________________________________________________________________________________________\n",
            "activation_12 (Activation)      (None, 28, 28, 128)  0           batch_normalization_12[0][0]     \n",
            "__________________________________________________________________________________________________\n",
            "conv2d_transpose_2 (Conv2DTrans (None, 56, 56, 64)   73792       activation_12[0][0]              \n",
            "__________________________________________________________________________________________________\n",
            "concatenate_2 (Concatenate)     (None, 56, 56, 128)  0           conv2d_transpose_2[0][0]         \n",
            "                                                                 activation_6[0][0]               \n",
            "__________________________________________________________________________________________________\n",
            "dropout_6 (Dropout)             (None, 56, 56, 128)  0           concatenate_2[0][0]              \n",
            "__________________________________________________________________________________________________\n",
            "conv2d_13 (Conv2D)              (None, 56, 56, 64)   73792       dropout_6[0][0]                  \n",
            "__________________________________________________________________________________________________\n",
            "batch_normalization_13 (BatchNo (None, 56, 56, 64)   256         conv2d_13[0][0]                  \n",
            "__________________________________________________________________________________________________\n",
            "activation_13 (Activation)      (None, 56, 56, 64)   0           batch_normalization_13[0][0]     \n",
            "__________________________________________________________________________________________________\n",
            "conv2d_14 (Conv2D)              (None, 56, 56, 64)   36928       activation_13[0][0]              \n",
            "__________________________________________________________________________________________________\n",
            "batch_normalization_14 (BatchNo (None, 56, 56, 64)   256         conv2d_14[0][0]                  \n",
            "__________________________________________________________________________________________________\n",
            "activation_14 (Activation)      (None, 56, 56, 64)   0           batch_normalization_14[0][0]     \n",
            "__________________________________________________________________________________________________\n",
            "conv2d_transpose_3 (Conv2DTrans (None, 112, 112, 32) 18464       activation_14[0][0]              \n",
            "__________________________________________________________________________________________________\n",
            "concatenate_3 (Concatenate)     (None, 112, 112, 64) 0           conv2d_transpose_3[0][0]         \n",
            "                                                                 activation_4[0][0]               \n",
            "__________________________________________________________________________________________________\n",
            "dropout_7 (Dropout)             (None, 112, 112, 64) 0           concatenate_3[0][0]              \n",
            "__________________________________________________________________________________________________\n",
            "conv2d_15 (Conv2D)              (None, 112, 112, 32) 18464       dropout_7[0][0]                  \n",
            "__________________________________________________________________________________________________\n",
            "batch_normalization_15 (BatchNo (None, 112, 112, 32) 128         conv2d_15[0][0]                  \n",
            "__________________________________________________________________________________________________\n",
            "activation_15 (Activation)      (None, 112, 112, 32) 0           batch_normalization_15[0][0]     \n",
            "__________________________________________________________________________________________________\n",
            "conv2d_16 (Conv2D)              (None, 112, 112, 32) 9248        activation_15[0][0]              \n",
            "__________________________________________________________________________________________________\n",
            "batch_normalization_16 (BatchNo (None, 112, 112, 32) 128         conv2d_16[0][0]                  \n",
            "__________________________________________________________________________________________________\n",
            "activation_16 (Activation)      (None, 112, 112, 32) 0           batch_normalization_16[0][0]     \n",
            "__________________________________________________________________________________________________\n",
            "conv2d_transpose_4 (Conv2DTrans (None, 224, 224, 16) 4624        activation_16[0][0]              \n",
            "__________________________________________________________________________________________________\n",
            "concatenate_4 (Concatenate)     (None, 224, 224, 32) 0           conv2d_transpose_4[0][0]         \n",
            "                                                                 activation_2[0][0]               \n",
            "__________________________________________________________________________________________________\n",
            "dropout_8 (Dropout)             (None, 224, 224, 32) 0           concatenate_4[0][0]              \n",
            "__________________________________________________________________________________________________\n",
            "conv2d_17 (Conv2D)              (None, 224, 224, 16) 4624        dropout_8[0][0]                  \n",
            "__________________________________________________________________________________________________\n",
            "batch_normalization_17 (BatchNo (None, 224, 224, 16) 64          conv2d_17[0][0]                  \n",
            "__________________________________________________________________________________________________\n",
            "activation_17 (Activation)      (None, 224, 224, 16) 0           batch_normalization_17[0][0]     \n",
            "__________________________________________________________________________________________________\n",
            "conv2d_18 (Conv2D)              (None, 224, 224, 16) 2320        activation_17[0][0]              \n",
            "__________________________________________________________________________________________________\n",
            "batch_normalization_18 (BatchNo (None, 224, 224, 16) 64          conv2d_18[0][0]                  \n",
            "__________________________________________________________________________________________________\n",
            "activation_18 (Activation)      (None, 224, 224, 16) 0           batch_normalization_18[0][0]     \n",
            "__________________________________________________________________________________________________\n",
            "conv2d_19 (Conv2D)              (None, 224, 224, 1)  17          activation_18[0][0]              \n",
            "==================================================================================================\n",
            "Total params: 2,164,305\n",
            "Trainable params: 2,161,361\n",
            "Non-trainable params: 2,944\n",
            "__________________________________________________________________________________________________\n"
          ],
          "name": "stdout"
        }
      ]
    },
    {
      "cell_type": "markdown",
      "metadata": {
        "id": "F9F9M1bo25Z9",
        "colab_type": "text"
      },
      "source": [
        "**Define Loss Functions**"
      ]
    },
    {
      "cell_type": "code",
      "metadata": {
        "id": "nSF8U7dqpv4Z",
        "trusted": true,
        "colab_type": "code",
        "colab": {}
      },
      "source": [
        "def iou_loss(y_true, y_pred):\n",
        "    y_true = tf.reshape(y_true, [-1])\n",
        "    y_pred = tf.reshape(y_pred, [-1])\n",
        "    intersection = tf.reduce_sum(y_true * y_pred)\n",
        "    score = (intersection + 1.) / (tf.reduce_sum(y_true) + tf.reduce_sum(y_pred) - intersection + 1.)\n",
        "    return 1 - score\n",
        "\n",
        "# def bce_loss(y_true,y_pred):\n",
        "#   return keras.losses.binary_crossentropy(y_true,y_pred)\n",
        "\n",
        "# mean iou as a metric\n",
        "def mean_iou(y_true, y_pred):\n",
        "    y_pred = tf.round(y_pred)\n",
        "    intersect = tf.reduce_sum(y_true * y_pred)\n",
        "    union = tf.reduce_sum(y_true) + tf.reduce_sum(y_pred)\n",
        "    smooth = tf.ones(tf.shape(intersect))\n",
        "    return tf.reduce_mean((intersect + smooth) / (union - intersect + smooth))"
      ],
      "execution_count": 0,
      "outputs": []
    },
    {
      "cell_type": "markdown",
      "metadata": {
        "id": "oPEkj8y325aB",
        "colab_type": "text"
      },
      "source": [
        "**Compile Model**"
      ]
    },
    {
      "cell_type": "code",
      "metadata": {
        "id": "bYOiB8EDSaUO",
        "trusted": true,
        "colab_type": "code",
        "colab": {}
      },
      "source": [
        "model.compile(optimizer='adam',\n",
        "                     loss=iou_loss,\n",
        "                     metrics=[mean_iou,'accuracy'])\n",
        "\n",
        "checkpoint = keras.callbacks.ModelCheckpoint(\"pnuemonia-detection-unet_{val_loss:.4f}.h5\",monitor='val_loss',\n",
        "                             verbose=1, save_best_only=False,save_weights_only=True, mode=\"auto\")\n",
        "\n",
        "es = keras.callbacks.EarlyStopping(monitor='val_loss', patience=4)"
      ],
      "execution_count": 0,
      "outputs": []
    },
    {
      "cell_type": "code",
      "metadata": {
        "id": "Sn9sNJQrCAQG",
        "outputId": "c53eae7d-dded-41a5-d698-cfa77f7fe1aa",
        "trusted": true,
        "colab_type": "code",
        "colab": {}
      },
      "source": [
        "folder = '../input/rsna-pneumonia-detection-challenge/stage_2_train_images'\n",
        "filenames = os.listdir(folder)\n",
        "random.shuffle(filenames)\n",
        "# split into train and validation filenames\n",
        "n_valid_samples = 6000\n",
        "train_filenames = filenames[n_valid_samples:]\n",
        "valid_filenames = filenames[:n_valid_samples]\n",
        "print('n train samples', len(train_filenames))\n",
        "print('n valid samples', len(valid_filenames))\n",
        "n_train_samples = len(filenames) - n_valid_samples"
      ],
      "execution_count": 0,
      "outputs": [
        {
          "output_type": "stream",
          "text": [
            "n train samples 20684\n",
            "n valid samples 6000\n"
          ],
          "name": "stdout"
        }
      ]
    },
    {
      "cell_type": "code",
      "metadata": {
        "id": "qY6utdJzmabd",
        "trusted": true,
        "colab_type": "code",
        "colab": {}
      },
      "source": [
        "# create train and validation generators\n",
        "train_gen_simple = generator_single_channel(folder, train_filenames, pneumonia_locations, batch_size=64, image_size=224, shuffle=True, predict=False)\n",
        "valid_gen_simple = generator_single_channel(folder, valid_filenames, pneumonia_locations, batch_size=64, image_size=224, shuffle=False, predict=False)"
      ],
      "execution_count": 0,
      "outputs": []
    },
    {
      "cell_type": "code",
      "metadata": {
        "id": "ONMrkQUfT9P_",
        "outputId": "191e78ed-f96d-4174-961c-6cb3fdc56eb4",
        "trusted": true,
        "colab_type": "code",
        "colab": {}
      },
      "source": [
        "history = model.fit_generator(train_gen_simple, validation_data=valid_gen_simple, callbacks=[checkpoint,es], epochs=10)"
      ],
      "execution_count": 0,
      "outputs": [
        {
          "output_type": "stream",
          "text": [
            "Epoch 1/10\n",
            "323/323 [==============================] - 730s 2s/step - loss: 0.8622 - mean_iou: 0.1857 - acc: 0.8907 - val_loss: 0.8567 - val_mean_iou: 0.1842 - val_acc: 0.9653\n",
            "\n",
            "Epoch 00001: saving model to pnuemonia-detection-unet_0.8567.h5\n",
            "Epoch 2/10\n",
            "323/323 [==============================] - 686s 2s/step - loss: 0.7445 - mean_iou: 0.2659 - acc: 0.9639 - val_loss: 0.7521 - val_mean_iou: 0.2522 - val_acc: 0.9650\n",
            "\n",
            "Epoch 00002: saving model to pnuemonia-detection-unet_0.7521.h5\n",
            "Epoch 3/10\n",
            "323/323 [==============================] - 699s 2s/step - loss: 0.7172 - mean_iou: 0.2857 - acc: 0.9670 - val_loss: 0.8169 - val_mean_iou: 0.1841 - val_acc: 0.9694\n",
            "\n",
            "Epoch 00003: saving model to pnuemonia-detection-unet_0.8169.h5\n",
            "Epoch 4/10\n",
            "323/323 [==============================] - 859s 3s/step - loss: 0.7005 - mean_iou: 0.3010 - acc: 0.9679 - val_loss: 0.7142 - val_mean_iou: 0.2867 - val_acc: 0.9696\n",
            "\n",
            "Epoch 00004: saving model to pnuemonia-detection-unet_0.7142.h5\n",
            "Epoch 5/10\n",
            "323/323 [==============================] - 803s 2s/step - loss: 0.6851 - mean_iou: 0.3159 - acc: 0.9694 - val_loss: 0.7189 - val_mean_iou: 0.2829 - val_acc: 0.9684\n",
            "\n",
            "Epoch 00005: saving model to pnuemonia-detection-unet_0.7189.h5\n",
            "Epoch 6/10\n",
            "323/323 [==============================] - 885s 3s/step - loss: 0.6758 - mean_iou: 0.3249 - acc: 0.9704 - val_loss: 0.7139 - val_mean_iou: 0.2869 - val_acc: 0.9695\n",
            "\n",
            "Epoch 00006: saving model to pnuemonia-detection-unet_0.7139.h5\n",
            "Epoch 7/10\n",
            "323/323 [==============================] - 624s 2s/step - loss: 0.6666 - mean_iou: 0.3339 - acc: 0.9713 - val_loss: 0.7853 - val_mean_iou: 0.2150 - val_acc: 0.9750\n",
            "\n",
            "Epoch 00007: saving model to pnuemonia-detection-unet_0.7853.h5\n",
            "Epoch 8/10\n",
            "323/323 [==============================] - 601s 2s/step - loss: 0.6593 - mean_iou: 0.3411 - acc: 0.9716 - val_loss: 0.6858 - val_mean_iou: 0.3146 - val_acc: 0.9750\n",
            "\n",
            "Epoch 00008: saving model to pnuemonia-detection-unet_0.6858.h5\n",
            "Epoch 9/10\n",
            "323/323 [==============================] - 584s 2s/step - loss: 0.6533 - mean_iou: 0.3470 - acc: 0.9718 - val_loss: 0.6865 - val_mean_iou: 0.3137 - val_acc: 0.9734\n",
            "\n",
            "Epoch 00009: saving model to pnuemonia-detection-unet_0.6865.h5\n",
            "Epoch 10/10\n",
            "323/323 [==============================] - 570s 2s/step - loss: 0.6512 - mean_iou: 0.3490 - acc: 0.9724 - val_loss: 0.8166 - val_mean_iou: 0.1835 - val_acc: 0.9724\n",
            "\n",
            "Epoch 00010: saving model to pnuemonia-detection-unet_0.8166.h5\n"
          ],
          "name": "stdout"
        }
      ]
    },
    {
      "cell_type": "markdown",
      "metadata": {
        "id": "GcCrcv9_25af",
        "colab_type": "text"
      },
      "source": [
        "### Model Training Metrics"
      ]
    },
    {
      "cell_type": "markdown",
      "metadata": {
        "id": "9M4mIgi-25ag",
        "colab_type": "text"
      },
      "source": [
        "Epoch 1/10\n",
        "323/323 [==============================] - 730s 2s/step - loss: 0.8622 - mean_iou: 0.1857 - acc: 0.8907 - val_loss: 0.8567 - val_mean_iou: 0.1842 - val_acc: 0.9653\n",
        "\n",
        "Epoch 00001: saving model to pnuemonia-detection-unet_0.8567.h5\n",
        "Epoch 2/10\n",
        "323/323 [==============================] - 686s 2s/step - loss: 0.7445 - mean_iou: 0.2659 - acc: 0.9639 - val_loss: 0.7521 - val_mean_iou: 0.2522 - val_acc: 0.9650\n",
        "\n",
        "Epoch 00002: saving model to pnuemonia-detection-unet_0.7521.h5\n",
        "Epoch 3/10\n",
        "323/323 [==============================] - 699s 2s/step - loss: 0.7172 - mean_iou: 0.2857 - acc: 0.9670 - val_loss: 0.8169 - val_mean_iou: 0.1841 - val_acc: 0.9694\n",
        "\n",
        "Epoch 00003: saving model to pnuemonia-detection-unet_0.8169.h5\n",
        "Epoch 4/10\n",
        "323/323 [==============================] - 859s 3s/step - loss: 0.7005 - mean_iou: 0.3010 - acc: 0.9679 - val_loss: 0.7142 - val_mean_iou: 0.2867 - val_acc: 0.9696\n",
        "\n",
        "Epoch 00004: saving model to pnuemonia-detection-unet_0.7142.h5\n",
        "Epoch 5/10\n",
        "323/323 [==============================] - 803s 2s/step - loss: 0.6851 - mean_iou: 0.3159 - acc: 0.9694 - val_loss: 0.7189 - val_mean_iou: 0.2829 - val_acc: 0.9684\n",
        "\n",
        "Epoch 00005: saving model to pnuemonia-detection-unet_0.7189.h5\n",
        "Epoch 6/10\n",
        "323/323 [==============================] - 885s 3s/step - loss: 0.6758 - mean_iou: 0.3249 - acc: 0.9704 - val_loss: 0.7139 - val_mean_iou: 0.2869 - val_acc: 0.9695\n",
        "\n",
        "Epoch 00006: saving model to pnuemonia-detection-unet_0.7139.h5\n",
        "Epoch 7/10\n",
        "323/323 [==============================] - 624s 2s/step - loss: 0.6666 - mean_iou: 0.3339 - acc: 0.9713 - val_loss: 0.7853 - val_mean_iou: 0.2150 - val_acc: 0.9750\n",
        "\n",
        "Epoch 00007: saving model to pnuemonia-detection-unet_0.7853.h5\n",
        "Epoch 8/10\n",
        "323/323 [==============================] - 601s 2s/step - loss: 0.6593 - mean_iou: 0.3411 - acc: 0.9716 - val_loss: 0.6858 - val_mean_iou: 0.3146 - val_acc: 0.9750\n",
        "\n",
        "Epoch 00008: saving model to pnuemonia-detection-unet_0.6858.h5\n",
        "Epoch 9/10\n",
        "323/323 [==============================] - 584s 2s/step - loss: 0.6533 - mean_iou: 0.3470 - acc: 0.9718 - val_loss: 0.6865 - val_mean_iou: 0.3137 - val_acc: 0.9734\n",
        "\n",
        "Epoch 00009: saving model to pnuemonia-detection-unet_0.6865.h5\n",
        "Epoch 10/10\n",
        "323/323 [==============================] - 570s 2s/step - loss: 0.6512 - mean_iou: 0.3490 - acc: 0.9724 - val_loss: 0.8166 - val_mean_iou: 0.1835 - val_acc: 0.9724\n",
        "\n",
        "Epoch 00010: saving model to pnuemonia-detection-unet_0.8166.h5"
      ]
    },
    {
      "cell_type": "code",
      "metadata": {
        "trusted": true,
        "id": "6uuvUjc825ah",
        "colab_type": "code",
        "colab": {}
      },
      "source": [
        "import pandas as pd \n",
        "from skimage.segmentation import mark_boundaries\n",
        "from skimage.measure import label, regionprops\n",
        "from skimage.util.montage import montage2d as montage\n",
        "import matplotlib.pyplot as plt\n",
        "import matplotlib as mpl\n",
        "import cv2"
      ],
      "execution_count": 0,
      "outputs": []
    },
    {
      "cell_type": "code",
      "metadata": {
        "trusted": true,
        "id": "CXGSfo3s25at",
        "colab_type": "code",
        "colab": {},
        "outputId": "6753fa59-4f67-4f97-e251-a005355ca68b"
      },
      "source": [
        "plt.figure(figsize=(12,4))\n",
        "plt.subplot(131)\n",
        "plt.plot(history.epoch, history.history[\"loss\"], label=\"Train loss\")\n",
        "plt.plot(history.epoch, history.history[\"val_loss\"], label=\"Valid loss\")\n",
        "plt.legend()\n",
        "plt.subplot(132)\n",
        "plt.plot(history.epoch, history.history[\"acc\"], label=\"Train accuracy\")\n",
        "plt.plot(history.epoch, history.history[\"val_acc\"], label=\"Valid accuracy\")\n",
        "plt.legend()\n",
        "plt.subplot(133)\n",
        "plt.plot(history.epoch, history.history[\"mean_iou\"], label=\"Train iou\")\n",
        "plt.plot(history.epoch, history.history[\"val_mean_iou\"], label=\"Valid iou\")\n",
        "plt.legend()\n",
        "plt.show()"
      ],
      "execution_count": 0,
      "outputs": [
        {
          "output_type": "display_data",
          "data": {
            "text/plain": [
              "<matplotlib.figure.Figure at 0x7f9654092080>"
            ],
            "image/png": "[encoded data removed]"
          },
          "metadata": {
            "tags": []
          }
        }
      ]
    },
    {
      "cell_type": "markdown",
      "metadata": {
        "id": "lZmAtJ_6AAIk",
        "colab_type": "text"
      },
      "source": [
        "### Evaluating Classfication Model"
      ]
    },
    {
      "cell_type": "code",
      "metadata": {
        "trusted": true,
        "id": "-TWa4yDr25a0",
        "colab_type": "code",
        "colab": {},
        "outputId": "02f42c7a-75d9-4e21-ec89-66edb635d1b3"
      },
      "source": [
        "!ls ../input/"
      ],
      "execution_count": 0,
      "outputs": [
        {
          "output_type": "stream",
          "text": [
            "capstone-rsna-pneumonia-detection-using-u-net\r\n",
            "rsna-pneumonia-detection-challenge\r\n"
          ],
          "name": "stdout"
        }
      ]
    },
    {
      "cell_type": "code",
      "metadata": {
        "trusted": true,
        "id": "i1XpF-8n25a_",
        "colab_type": "code",
        "colab": {}
      },
      "source": [
        "model.load_weights('../input/capstone-rsna-pneumonia-detection-using-u-net/pnuemonia-detection-unet_0.6968.h5')"
      ],
      "execution_count": 0,
      "outputs": []
    },
    {
      "cell_type": "code",
      "metadata": {
        "trusted": true,
        "id": "J0ck8m9a25bL",
        "colab_type": "code",
        "colab": {}
      },
      "source": [
        "valid_gen_pred = generator_single_channel(folder, valid_filenames, pneumonia_locations,\n",
        "                                            batch_size=64, image_size=224, shuffle=False, predict=True)"
      ],
      "execution_count": 0,
      "outputs": []
    },
    {
      "cell_type": "code",
      "metadata": {
        "trusted": true,
        "id": "AxhHvpoL25bR",
        "colab_type": "code",
        "colab": {}
      },
      "source": [
        "validation_preds = model.predict_generator(valid_gen_pred)"
      ],
      "execution_count": 0,
      "outputs": []
    },
    {
      "cell_type": "code",
      "metadata": {
        "trusted": true,
        "id": "aXZwRGnU25bd",
        "colab_type": "code",
        "colab": {}
      },
      "source": [
        "validation_preds_flat = np.reshape(validation_preds,newshape=(len(validation_preds),224,224))"
      ],
      "execution_count": 0,
      "outputs": []
    },
    {
      "cell_type": "code",
      "metadata": {
        "trusted": true,
        "id": "QxNnxp5b25bj",
        "colab_type": "code",
        "colab": {},
        "outputId": "4562bb7f-c355-4119-fa6e-909bb3314067"
      },
      "source": [
        "plt.imshow(validation_preds_flat[0],cmap='Reds')"
      ],
      "execution_count": 0,
      "outputs": [
        {
          "output_type": "execute_result",
          "data": {
            "text/plain": [
              "<matplotlib.image.AxesImage at 0x7f96543f09e8>"
            ]
          },
          "metadata": {
            "tags": []
          },
          "execution_count": 26
        },
        {
          "output_type": "display_data",
          "data": {
            "text/plain": [
              "<matplotlib.figure.Figure at 0x7f9654329048>"
            ],
            "image/png": "[encoded data removed]"
          },
          "metadata": {
            "tags": []
          }
        }
      ]
    },
    {
      "cell_type": "code",
      "metadata": {
        "trusted": true,
        "id": "zeP6SDQ625bn",
        "colab_type": "code",
        "colab": {},
        "outputId": "63f023fa-406c-41af-ff17-5438ad4f706f"
      },
      "source": [
        "cv2.imwrite('abc.png',validation_preds_flat[0])"
      ],
      "execution_count": 0,
      "outputs": [
        {
          "output_type": "execute_result",
          "data": {
            "text/plain": [
              "True"
            ]
          },
          "metadata": {
            "tags": []
          },
          "execution_count": 27
        }
      ]
    },
    {
      "cell_type": "code",
      "metadata": {
        "trusted": true,
        "id": "5Ezybf1K25bu",
        "colab_type": "code",
        "colab": {}
      },
      "source": [
        "im2 = cv2.cvtColor(cv2.imread('abc.png'),cv2.COLOR_BGR2GRAY)\n",
        "ret,thresh = cv2.threshold(im2,0.9,1,cv2.THRESH_BINARY)\n",
        "contours = cv2.findContours(thresh,cv2.RETR_TREE,cv2.CHAIN_APPROX_SIMPLE)"
      ],
      "execution_count": 0,
      "outputs": []
    },
    {
      "cell_type": "code",
      "metadata": {
        "trusted": true,
        "id": "zI2FuCE425bz",
        "colab_type": "code",
        "colab": {}
      },
      "source": [
        "from skimage import measure\n",
        "from skimage.transform import resize"
      ],
      "execution_count": 0,
      "outputs": []
    },
    {
      "cell_type": "code",
      "metadata": {
        "trusted": true,
        "id": "Ci5J1pZr25b2",
        "colab_type": "code",
        "colab": {},
        "outputId": "27cfaaad-1bc8-4cd2-f989-701c68c0bc03"
      },
      "source": [
        "folder = '../input/rsna-pneumonia-detection-challenge/stage_2_test_images'\n",
        "test_filenames = os.listdir(folder)\n",
        "print('n test samples:', len(test_filenames))\n",
        "\n",
        "# create test generator with predict flag set to True\n",
        "test_gen = generator_single_channel(folder, test_filenames, None, batch_size=20, image_size=224, shuffle=False, predict=True)\n",
        "\n",
        "# create submission dictionary\n",
        "submission_dict = {}\n",
        "# loop through testset\n",
        "for imgs, filenames in test_gen:\n",
        "    # predict batch of images\n",
        "    preds = model.predict(imgs)\n",
        "    # loop through batch\n",
        "    for pred, filename in zip(preds, filenames):\n",
        "        # resize predicted mask\n",
        "        pred = resize(pred, (1024, 1024), mode='reflect')\n",
        "        # threshold predicted mask\n",
        "        comp = pred[:, :, 0] > 0.5\n",
        "        # apply connected components\n",
        "        comp = measure.label(comp)\n",
        "        # apply bounding boxes\n",
        "        predictionString = ''\n",
        "        for region in measure.regionprops(comp):\n",
        "            # retrieve x, y, height and width\n",
        "            y, x, y2, x2 = region.bbox\n",
        "            height = y2 - y\n",
        "            width = x2 - x\n",
        "            # proxy for confidence score\n",
        "            conf = np.mean(pred[y:y+height, x:x+width])\n",
        "            # add to predictionString\n",
        "            predictionString += str(conf) + ' ' + str(x) + ' ' + str(y) + ' ' + str(width) + ' ' + str(height) + ' '\n",
        "        # add filename and predictionString to dictionary\n",
        "        filename = filename.split('.')[0]\n",
        "        submission_dict[filename] = predictionString\n",
        "    # stop if we've got them all\n",
        "    if len(submission_dict) >= len(test_filenames):\n",
        "        break\n",
        "\n",
        "# save dictionary as csv file\n",
        "sub = pd.DataFrame.from_dict(submission_dict,orient='index')\n",
        "sub.index.names = ['patientId']\n",
        "sub.columns = ['PredictionString']\n",
        "sub.to_csv('submission.csv')"
      ],
      "execution_count": 0,
      "outputs": [
        {
          "output_type": "stream",
          "text": [
            "n test samples: 3000\n"
          ],
          "name": "stdout"
        }
      ]
    },
    {
      "cell_type": "code",
      "metadata": {
        "trusted": true,
        "id": "qE7sBc-a25b4",
        "colab_type": "code",
        "colab": {},
        "outputId": "c1b459a0-dafd-46ac-da17-a6622dcf9c82"
      },
      "source": [
        "sub.head(300)"
      ],
      "execution_count": 0,
      "outputs": [
        {
          "output_type": "execute_result",
          "data": {
            "text/plain": [
              "                                                                       PredictionString\n",
              "patientId                                                                              \n",
              "2a27aad6-fdc7-491f-885d-44d5619a6cf5                                                   \n",
              "139086b8-d4bf-4ee5-8027-cb405da2c2ab                                                   \n",
              "0de94683-fb0c-444d-be13-7617a09a3247                                                   \n",
              "bfed1172-fef5-46dc-8dcd-ba436b3ae518  0.5502842298161105 252 306 72 63 0.62188078246...\n",
              "0d0a219a-f091-430b-a0c4-6a90faa1636c  0.8881838960432501 187 375 223 459 0.774220870...\n",
              "1e79f233-54df-440f-98e2-ae7ec3d55766                                                   \n",
              "1d428c99-400a-42da-807e-741dafc986d6  0.8530424558308001 55 146 283 618 0.8132555304...\n",
              "2c2686b4-0892-443e-a18e-fc60817a7166                                                   \n",
              "215d4b0a-b546-4eae-ab7a-39b303f7248b                0.8217916178921766 296 264 216 309 \n",
              "1a960408-21c0-4b5f-a093-2ea4a94a2258                                                   \n",
              "2fa863e7-65e0-4808-a1c2-5e15b8157470                                                   \n",
              "2d939ac2-7fa6-4016-a1d6-742ff9fb6bbe  0.8801058663153214 220 362 246 448 0.850009162...\n",
              "0540925d-6075-4bb6-9007-020b53c08958                0.8693554264494838 137 325 270 524 \n",
              "29ea4ef5-f115-4961-9fe6-4c286a78fe82                                                   \n",
              "2b111931-60e8-4281-8f76-a7181ae96837                                                   \n",
              "0dc83f2c-c930-49aa-83f0-e9ed0aadd976                                                   \n",
              "28e7948f-0d76-4616-80e0-7e54f8691d43                                                   \n",
              "1a2b25c6-2334-4a4f-b038-44e48caf4512                                                   \n",
              "13a84b9d-6351-4424-b19c-c745ef755dd2                                                   \n",
              "24aeb8f6-24bd-488b-bef0-2e8fa59418fe                                                   \n",
              "3024f1ab-d681-4432-a5c9-8ce3dd27073a                                                   \n",
              "1d942bbd-470f-4766-9813-80281a270f38                                                   \n",
              "1c62970d-e0df-4078-b95c-cd3a29fe0a05                                                   \n",
              "02256e17-eef9-412c-a03c-39e2eb2e6392                                                   \n",
              "2aed1baf-8e50-490f-abd0-2ce2d2469ea4                0.7059047494129771 606 415 144 148 \n",
              "c07be578-7dba-4f48-9d41-ca336d9823de                                                   \n",
              "c06462ab-7889-4876-95b5-a20fd2a71408                                                   \n",
              "2cc95db5-41a8-47d6-9bee-de5c9490b623                0.7494837098395989 261 567 137 149 \n",
              "1e9c130e-1dc8-4545-968a-93522b43ac98  0.8618295956179692 205 357 220 293 0.785327066...\n",
              "20e6c681-9559-410b-abf3-cc0b0d71889d                                                   \n",
              "...                                                                                 ...\n",
              "2cafaa81-87f2-40e8-a7df-947de34103b3                                                   \n",
              "0dbfe0c3-ec45-404f-ad6e-54683f28b52c                                                   \n",
              "0e334daf-a272-453d-8d3d-80d9f31d59b7                                                   \n",
              "2185b766-f19c-43b0-b91c-e31e0589dc4d  0.8848310898172398 288 329 256 592 0.845776931...\n",
              "19fe1b8d-e93e-4810-b8cb-19c59141c90c                                                   \n",
              "25df7025-79bf-4b6f-8b58-dcb1268e1a22                                                   \n",
              "015a202d-5e18-4dcf-802c-0f7e75e14a38  0.8119154501824901 128 122 315 628 0.865083665...\n",
              "1da29452-a122-4a5b-b10a-3c43ce5f4dd6                                                   \n",
              "2a266b8b-cd95-4d58-a018-f26f12d34f56                                                   \n",
              "2a31df3c-5131-4622-b63a-be9a058837bd                0.7977126848081828 169 482 224 355 \n",
              "1bcf1a2e-c010-41ca-a15f-c0e3aab1fe51                                                   \n",
              "0198e5bc-ea34-4e84-b21f-1a3ea96801ab                                                   \n",
              "234e2082-098d-48fa-933f-e311d7bf3439                0.9068686283291371 124 384 242 351 \n",
              "26a937bc-a3e4-41a1-9a1a-a63506d4b49d                                                   \n",
              "27161478-e5ca-40aa-98f6-777a59e96200  0.8152037058988265 201 324 279 548 0.837784087...\n",
              "2ae5bc25-2e13-4905-b94d-a9240d86d499                                                   \n",
              "11d66121-49b9-4365-8c43-f9d3474e7c52                                                   \n",
              "0cfcd755-5c79-4fcd-9562-0b983f77d0c0                                                   \n",
              "29723dd7-47a0-4ec9-ace9-a1130e604d60                                                   \n",
              "03800681-c722-448f-bf8c-635080a95f00                                                   \n",
              "1b6345c7-0d2c-4b43-b214-a5b43d69ac87                                                   \n",
              "035c8891-656e-4422-82a0-a53406dae9ba                                                   \n",
              "218b656e-0c88-493c-a567-af93166ec37a                                                   \n",
              "13e8639e-ef45-48eb-a24b-6c32d3517e29                                                   \n",
              "13c66d0d-32ab-4a06-8c35-5abd5d1e4bd1                                                   \n",
              "11ea306d-5547-42cb-aa25-a02f151fe5ac                 0.8459321930614581 83 129 243 430 \n",
              "2479b752-baae-4fbb-8b35-5a43464f1188                                                   \n",
              "003ec9e3-512e-4f6e-923d-daa9f9f3db9a                                                   \n",
              "263db843-751f-4cd1-b392-548fe40d2636  0.8610929951459303 557 164 363 601 0.892458951...\n",
              "1bae5ce0-3a82-4c56-9c6b-c9d601fb8308                                                   \n",
              "\n",
              "[300 rows x 1 columns]"
            ],
            "text/html": [
              "<div>\n",
              "<style scoped>\n",
              "    .dataframe tbody tr th:only-of-type {\n",
              "        vertical-align: middle;\n",
              "    }\n",
              "\n",
              "    .dataframe tbody tr th {\n",
              "        vertical-align: top;\n",
              "    }\n",
              "\n",
              "    .dataframe thead th {\n",
              "        text-align: right;\n",
              "    }\n",
              "</style>\n",
              "<table border=\"1\" class=\"dataframe\">\n",
              "  <thead>\n",
              "    <tr style=\"text-align: right;\">\n",
              "      <th></th>\n",
              "      <th>PredictionString</th>\n",
              "    </tr>\n",
              "    <tr>\n",
              "      <th>patientId</th>\n",
              "      <th></th>\n",
              "    </tr>\n",
              "  </thead>\n",
              "  <tbody>\n",
              "    <tr>\n",
              "      <th>2a27aad6-fdc7-491f-885d-44d5619a6cf5</th>\n",
              "      <td></td>\n",
              "    </tr>\n",
              "    <tr>\n",
              "      <th>139086b8-d4bf-4ee5-8027-cb405da2c2ab</th>\n",
              "      <td></td>\n",
              "    </tr>\n",
              "    <tr>\n",
              "      <th>0de94683-fb0c-444d-be13-7617a09a3247</th>\n",
              "      <td></td>\n",
              "    </tr>\n",
              "    <tr>\n",
              "      <th>bfed1172-fef5-46dc-8dcd-ba436b3ae518</th>\n",
              "      <td>0.5502842298161105 252 306 72 63 0.62188078246...</td>\n",
              "    </tr>\n",
              "    <tr>\n",
              "      <th>0d0a219a-f091-430b-a0c4-6a90faa1636c</th>\n",
              "      <td>0.8881838960432501 187 375 223 459 0.774220870...</td>\n",
              "    </tr>\n",
              "    <tr>\n",
              "      <th>1e79f233-54df-440f-98e2-ae7ec3d55766</th>\n",
              "      <td></td>\n",
              "    </tr>\n",
              "    <tr>\n",
              "      <th>1d428c99-400a-42da-807e-741dafc986d6</th>\n",
              "      <td>0.8530424558308001 55 146 283 618 0.8132555304...</td>\n",
              "    </tr>\n",
              "    <tr>\n",
              "      <th>2c2686b4-0892-443e-a18e-fc60817a7166</th>\n",
              "      <td></td>\n",
              "    </tr>\n",
              "    <tr>\n",
              "      <th>215d4b0a-b546-4eae-ab7a-39b303f7248b</th>\n",
              "      <td>0.8217916178921766 296 264 216 309</td>\n",
              "    </tr>\n",
              "    <tr>\n",
              "      <th>1a960408-21c0-4b5f-a093-2ea4a94a2258</th>\n",
              "      <td></td>\n",
              "    </tr>\n",
              "    <tr>\n",
              "      <th>2fa863e7-65e0-4808-a1c2-5e15b8157470</th>\n",
              "      <td></td>\n",
              "    </tr>\n",
              "    <tr>\n",
              "      <th>2d939ac2-7fa6-4016-a1d6-742ff9fb6bbe</th>\n",
              "      <td>0.8801058663153214 220 362 246 448 0.850009162...</td>\n",
              "    </tr>\n",
              "    <tr>\n",
              "      <th>0540925d-6075-4bb6-9007-020b53c08958</th>\n",
              "      <td>0.8693554264494838 137 325 270 524</td>\n",
              "    </tr>\n",
              "    <tr>\n",
              "      <th>29ea4ef5-f115-4961-9fe6-4c286a78fe82</th>\n",
              "      <td></td>\n",
              "    </tr>\n",
              "    <tr>\n",
              "      <th>2b111931-60e8-4281-8f76-a7181ae96837</th>\n",
              "      <td></td>\n",
              "    </tr>\n",
              "    <tr>\n",
              "      <th>0dc83f2c-c930-49aa-83f0-e9ed0aadd976</th>\n",
              "      <td></td>\n",
              "    </tr>\n",
              "    <tr>\n",
              "      <th>28e7948f-0d76-4616-80e0-7e54f8691d43</th>\n",
              "      <td></td>\n",
              "    </tr>\n",
              "    <tr>\n",
              "      <th>1a2b25c6-2334-4a4f-b038-44e48caf4512</th>\n",
              "      <td></td>\n",
              "    </tr>\n",
              "    <tr>\n",
              "      <th>13a84b9d-6351-4424-b19c-c745ef755dd2</th>\n",
              "      <td></td>\n",
              "    </tr>\n",
              "    <tr>\n",
              "      <th>24aeb8f6-24bd-488b-bef0-2e8fa59418fe</th>\n",
              "      <td></td>\n",
              "    </tr>\n",
              "    <tr>\n",
              "      <th>3024f1ab-d681-4432-a5c9-8ce3dd27073a</th>\n",
              "      <td></td>\n",
              "    </tr>\n",
              "    <tr>\n",
              "      <th>1d942bbd-470f-4766-9813-80281a270f38</th>\n",
              "      <td></td>\n",
              "    </tr>\n",
              "    <tr>\n",
              "      <th>1c62970d-e0df-4078-b95c-cd3a29fe0a05</th>\n",
              "      <td></td>\n",
              "    </tr>\n",
              "    <tr>\n",
              "      <th>02256e17-eef9-412c-a03c-39e2eb2e6392</th>\n",
              "      <td></td>\n",
              "    </tr>\n",
              "    <tr>\n",
              "      <th>2aed1baf-8e50-490f-abd0-2ce2d2469ea4</th>\n",
              "      <td>0.7059047494129771 606 415 144 148</td>\n",
              "    </tr>\n",
              "    <tr>\n",
              "      <th>c07be578-7dba-4f48-9d41-ca336d9823de</th>\n",
              "      <td></td>\n",
              "    </tr>\n",
              "    <tr>\n",
              "      <th>c06462ab-7889-4876-95b5-a20fd2a71408</th>\n",
              "      <td></td>\n",
              "    </tr>\n",
              "    <tr>\n",
              "      <th>2cc95db5-41a8-47d6-9bee-de5c9490b623</th>\n",
              "      <td>0.7494837098395989 261 567 137 149</td>\n",
              "    </tr>\n",
              "    <tr>\n",
              "      <th>1e9c130e-1dc8-4545-968a-93522b43ac98</th>\n",
              "      <td>0.8618295956179692 205 357 220 293 0.785327066...</td>\n",
              "    </tr>\n",
              "    <tr>\n",
              "      <th>20e6c681-9559-410b-abf3-cc0b0d71889d</th>\n",
              "      <td></td>\n",
              "    </tr>\n",
              "    <tr>\n",
              "      <th>...</th>\n",
              "      <td>...</td>\n",
              "    </tr>\n",
              "    <tr>\n",
              "      <th>2cafaa81-87f2-40e8-a7df-947de34103b3</th>\n",
              "      <td></td>\n",
              "    </tr>\n",
              "    <tr>\n",
              "      <th>0dbfe0c3-ec45-404f-ad6e-54683f28b52c</th>\n",
              "      <td></td>\n",
              "    </tr>\n",
              "    <tr>\n",
              "      <th>0e334daf-a272-453d-8d3d-80d9f31d59b7</th>\n",
              "      <td></td>\n",
              "    </tr>\n",
              "    <tr>\n",
              "      <th>2185b766-f19c-43b0-b91c-e31e0589dc4d</th>\n",
              "      <td>0.8848310898172398 288 329 256 592 0.845776931...</td>\n",
              "    </tr>\n",
              "    <tr>\n",
              "      <th>19fe1b8d-e93e-4810-b8cb-19c59141c90c</th>\n",
              "      <td></td>\n",
              "    </tr>\n",
              "    <tr>\n",
              "      <th>25df7025-79bf-4b6f-8b58-dcb1268e1a22</th>\n",
              "      <td></td>\n",
              "    </tr>\n",
              "    <tr>\n",
              "      <th>015a202d-5e18-4dcf-802c-0f7e75e14a38</th>\n",
              "      <td>0.8119154501824901 128 122 315 628 0.865083665...</td>\n",
              "    </tr>\n",
              "    <tr>\n",
              "      <th>1da29452-a122-4a5b-b10a-3c43ce5f4dd6</th>\n",
              "      <td></td>\n",
              "    </tr>\n",
              "    <tr>\n",
              "      <th>2a266b8b-cd95-4d58-a018-f26f12d34f56</th>\n",
              "      <td></td>\n",
              "    </tr>\n",
              "    <tr>\n",
              "      <th>2a31df3c-5131-4622-b63a-be9a058837bd</th>\n",
              "      <td>0.7977126848081828 169 482 224 355</td>\n",
              "    </tr>\n",
              "    <tr>\n",
              "      <th>1bcf1a2e-c010-41ca-a15f-c0e3aab1fe51</th>\n",
              "      <td></td>\n",
              "    </tr>\n",
              "    <tr>\n",
              "      <th>0198e5bc-ea34-4e84-b21f-1a3ea96801ab</th>\n",
              "      <td></td>\n",
              "    </tr>\n",
              "    <tr>\n",
              "      <th>234e2082-098d-48fa-933f-e311d7bf3439</th>\n",
              "      <td>0.9068686283291371 124 384 242 351</td>\n",
              "    </tr>\n",
              "    <tr>\n",
              "      <th>26a937bc-a3e4-41a1-9a1a-a63506d4b49d</th>\n",
              "      <td></td>\n",
              "    </tr>\n",
              "    <tr>\n",
              "      <th>27161478-e5ca-40aa-98f6-777a59e96200</th>\n",
              "      <td>0.8152037058988265 201 324 279 548 0.837784087...</td>\n",
              "    </tr>\n",
              "    <tr>\n",
              "      <th>2ae5bc25-2e13-4905-b94d-a9240d86d499</th>\n",
              "      <td></td>\n",
              "    </tr>\n",
              "    <tr>\n",
              "      <th>11d66121-49b9-4365-8c43-f9d3474e7c52</th>\n",
              "      <td></td>\n",
              "    </tr>\n",
              "    <tr>\n",
              "      <th>0cfcd755-5c79-4fcd-9562-0b983f77d0c0</th>\n",
              "      <td></td>\n",
              "    </tr>\n",
              "    <tr>\n",
              "      <th>29723dd7-47a0-4ec9-ace9-a1130e604d60</th>\n",
              "      <td></td>\n",
              "    </tr>\n",
              "    <tr>\n",
              "      <th>03800681-c722-448f-bf8c-635080a95f00</th>\n",
              "      <td></td>\n",
              "    </tr>\n",
              "    <tr>\n",
              "      <th>1b6345c7-0d2c-4b43-b214-a5b43d69ac87</th>\n",
              "      <td></td>\n",
              "    </tr>\n",
              "    <tr>\n",
              "      <th>035c8891-656e-4422-82a0-a53406dae9ba</th>\n",
              "      <td></td>\n",
              "    </tr>\n",
              "    <tr>\n",
              "      <th>218b656e-0c88-493c-a567-af93166ec37a</th>\n",
              "      <td></td>\n",
              "    </tr>\n",
              "    <tr>\n",
              "      <th>13e8639e-ef45-48eb-a24b-6c32d3517e29</th>\n",
              "      <td></td>\n",
              "    </tr>\n",
              "    <tr>\n",
              "      <th>13c66d0d-32ab-4a06-8c35-5abd5d1e4bd1</th>\n",
              "      <td></td>\n",
              "    </tr>\n",
              "    <tr>\n",
              "      <th>11ea306d-5547-42cb-aa25-a02f151fe5ac</th>\n",
              "      <td>0.8459321930614581 83 129 243 430</td>\n",
              "    </tr>\n",
              "    <tr>\n",
              "      <th>2479b752-baae-4fbb-8b35-5a43464f1188</th>\n",
              "      <td></td>\n",
              "    </tr>\n",
              "    <tr>\n",
              "      <th>003ec9e3-512e-4f6e-923d-daa9f9f3db9a</th>\n",
              "      <td></td>\n",
              "    </tr>\n",
              "    <tr>\n",
              "      <th>263db843-751f-4cd1-b392-548fe40d2636</th>\n",
              "      <td>0.8610929951459303 557 164 363 601 0.892458951...</td>\n",
              "    </tr>\n",
              "    <tr>\n",
              "      <th>1bae5ce0-3a82-4c56-9c6b-c9d601fb8308</th>\n",
              "      <td></td>\n",
              "    </tr>\n",
              "  </tbody>\n",
              "</table>\n",
              "<p>300 rows × 1 columns</p>\n",
              "</div>"
            ]
          },
          "metadata": {
            "tags": []
          },
          "execution_count": 33
        }
      ]
    },
    {
      "cell_type": "code",
      "metadata": {
        "trusted": true,
        "id": "YgjV1zAr25b8",
        "colab_type": "code",
        "colab": {}
      },
      "source": [
        ""
      ],
      "execution_count": 0,
      "outputs": []
    }
  ]
}