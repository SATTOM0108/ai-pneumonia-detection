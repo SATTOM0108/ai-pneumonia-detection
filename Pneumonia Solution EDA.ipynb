{
 "cells": [
  {
   "cell_type": "code",
   "execution_count": 1,
   "metadata": {},
   "outputs": [],
   "source": [
    "import glob, pylab, pandas as pd\n"
   ]
  },
  {
   "cell_type": "code",
   "execution_count": 2,
   "metadata": {},
   "outputs": [],
   "source": [
    "import pydicom, numpy as np"
   ]
  },
  {
   "cell_type": "code",
   "execution_count": 3,
   "metadata": {},
   "outputs": [],
   "source": [
    "df=pd.read_csv('stage_2_train_labels.csv')"
   ]
  },
  {
   "cell_type": "code",
   "execution_count": 4,
   "metadata": {},
   "outputs": [
    {
     "name": "stdout",
     "output_type": "stream",
     "text": [
      "patientId    0004cfab-14fd-4e49-80ba-63a80b6bddd6\n",
      "x                                             NaN\n",
      "y                                             NaN\n",
      "width                                         NaN\n",
      "height                                        NaN\n",
      "Target                                          0\n",
      "Name: 0, dtype: object\n"
     ]
    }
   ],
   "source": [
    "print(df.iloc[0])"
   ]
  },
  {
   "cell_type": "code",
   "execution_count": 5,
   "metadata": {},
   "outputs": [
    {
     "name": "stdout",
     "output_type": "stream",
     "text": [
      "patientId    00313ee0-9eaa-42f4-b0ab-c148ed3241cd\n",
      "x                                             NaN\n",
      "y                                             NaN\n",
      "width                                         NaN\n",
      "height                                        NaN\n",
      "Target                                          0\n",
      "Name: 1, dtype: object\n"
     ]
    }
   ],
   "source": [
    "print(df.iloc[1])"
   ]
  },
  {
   "cell_type": "code",
   "execution_count": 11,
   "metadata": {},
   "outputs": [
    {
     "name": "stdout",
     "output_type": "stream",
     "text": [
      "patientId    00322d4d-1c29-4943-afc9-b6754be640eb\n",
      "x                                             NaN\n",
      "y                                             NaN\n",
      "width                                         NaN\n",
      "height                                        NaN\n",
      "Target                                          0\n",
      "Name: 2, dtype: object\n"
     ]
    }
   ],
   "source": [
    "print(df.iloc[2])"
   ]
  },
  {
   "cell_type": "markdown",
   "metadata": {},
   "source": [
    "#this file has the NaN values, which will have be handled later"
   ]
  },
  {
   "cell_type": "markdown",
   "metadata": {},
   "source": [
    "Overview of DICOM files and medical images¶\n",
    "Medical images are stored in a special format known as DICOM files (*.dcm). They contain a combination of header metadata as well as underlying raw image arrays for pixel data. In Python, one popular library to access and manipulate DICOM files is the pydicom module. To use the pydicom library, first find the DICOM file for a given patientId by simply looking for the matching file in the stage_1_train_images/ folder, and the use the pydicom.read_file() method to load the data:"
   ]
  },
  {
   "cell_type": "code",
   "execution_count": 7,
   "metadata": {},
   "outputs": [],
   "source": [
    "patientId = df['patientId'][0]"
   ]
  },
  {
   "cell_type": "code",
   "execution_count": 8,
   "metadata": {},
   "outputs": [],
   "source": [
    "dcm_file = 'stage_2_train_images/%s.dcm' % patientId"
   ]
  },
  {
   "cell_type": "code",
   "execution_count": 9,
   "metadata": {},
   "outputs": [],
   "source": [
    "dcm_data = pydicom.read_file(dcm_file)"
   ]
  },
  {
   "cell_type": "code",
   "execution_count": 10,
   "metadata": {},
   "outputs": [
    {
     "name": "stdout",
     "output_type": "stream",
     "text": [
      "<class 'numpy.ndarray'>\n",
      "uint8\n",
      "(1024, 1024)\n"
     ]
    }
   ],
   "source": [
    "im = dcm_data.pixel_array\n",
    "print(type(im))\n",
    "print(im.dtype)\n",
    "print(im.shape)"
   ]
  },
  {
   "cell_type": "code",
   "execution_count": 12,
   "metadata": {},
   "outputs": [
    {
     "name": "stdout",
     "output_type": "stream",
     "text": [
      "(0008, 0005) Specific Character Set              CS: 'ISO_IR 100'\n",
      "(0008, 0016) SOP Class UID                       UI: Secondary Capture Image Storage\n",
      "(0008, 0018) SOP Instance UID                    UI: 1.2.276.0.7230010.3.1.4.8323329.28530.1517874485.775526\n",
      "(0008, 0020) Study Date                          DA: '19010101'\n",
      "(0008, 0030) Study Time                          TM: '000000.00'\n",
      "(0008, 0050) Accession Number                    SH: ''\n",
      "(0008, 0060) Modality                            CS: 'CR'\n",
      "(0008, 0064) Conversion Type                     CS: 'WSD'\n",
      "(0008, 0090) Referring Physician's Name          PN: ''\n",
      "(0008, 103e) Series Description                  LO: 'view: PA'\n",
      "(0010, 0010) Patient's Name                      PN: '0004cfab-14fd-4e49-80ba-63a80b6bddd6'\n",
      "(0010, 0020) Patient ID                          LO: '0004cfab-14fd-4e49-80ba-63a80b6bddd6'\n",
      "(0010, 0030) Patient's Birth Date                DA: ''\n",
      "(0010, 0040) Patient's Sex                       CS: 'F'\n",
      "(0010, 1010) Patient's Age                       AS: '51'\n",
      "(0018, 0015) Body Part Examined                  CS: 'CHEST'\n",
      "(0018, 5101) View Position                       CS: 'PA'\n",
      "(0020, 000d) Study Instance UID                  UI: 1.2.276.0.7230010.3.1.2.8323329.28530.1517874485.775525\n",
      "(0020, 000e) Series Instance UID                 UI: 1.2.276.0.7230010.3.1.3.8323329.28530.1517874485.775524\n",
      "(0020, 0010) Study ID                            SH: ''\n",
      "(0020, 0011) Series Number                       IS: \"1\"\n",
      "(0020, 0013) Instance Number                     IS: \"1\"\n",
      "(0020, 0020) Patient Orientation                 CS: ''\n",
      "(0028, 0002) Samples per Pixel                   US: 1\n",
      "(0028, 0004) Photometric Interpretation          CS: 'MONOCHROME2'\n",
      "(0028, 0010) Rows                                US: 1024\n",
      "(0028, 0011) Columns                             US: 1024\n",
      "(0028, 0030) Pixel Spacing                       DS: [0.14300000000000002, 0.14300000000000002]\n",
      "(0028, 0100) Bits Allocated                      US: 8\n",
      "(0028, 0101) Bits Stored                         US: 8\n",
      "(0028, 0102) High Bit                            US: 7\n",
      "(0028, 0103) Pixel Representation                US: 0\n",
      "(0028, 2110) Lossy Image Compression             CS: '01'\n",
      "(0028, 2114) Lossy Image Compression Method      CS: 'ISO_10918_1'\n",
      "(7fe0, 0010) Pixel Data                          OB: Array of 142006 elements\n"
     ]
    }
   ],
   "source": [
    "print(dcm_data)"
   ]
  },
  {
   "cell_type": "code",
   "execution_count": 13,
   "metadata": {},
   "outputs": [
    {
     "data": {
      "text/plain": [
       "(-0.5, 1023.5, 1023.5, -0.5)"
      ]
     },
     "execution_count": 13,
     "metadata": {},
     "output_type": "execute_result"
    },
    {
     "data": {
      "image/png": "[encoded data removed]",
      "text/plain": [
       "<Figure size 432x288 with 1 Axes>"
      ]
     },
     "metadata": {
      "needs_background": "light"
     },
     "output_type": "display_data"
    }
   ],
   "source": [
    "pylab.imshow(im, cmap=pylab.cm.gist_gray)\n",
    "pylab.axis('off')"
   ]
  },
  {
   "cell_type": "code",
   "execution_count": 19,
   "metadata": {},
   "outputs": [],
   "source": [
    "def parse_data(df):\n",
    "\n",
    "    # --- Define lambda to extract coords in list [y, x, height, width]\n",
    "    extract_box = lambda row: [row['y'], row['x'], row['height'], row['width']]\n",
    "\n",
    "    parsed = {}\n",
    "    for n, row in df.iterrows():\n",
    "        # --- Initialize patient entry into parsed \n",
    "        pid = row['patientId']\n",
    "        if pid not in parsed:\n",
    "            parsed[pid] = {\n",
    "                'dicom': 'stage_2_train_images/%s.dcm' % pid,\n",
    "                'label': row['Target'],\n",
    "                'boxes': []}\n",
    "\n",
    "        # --- Add box if opacity is present\n",
    "        if parsed[pid]['label'] == 1:\n",
    "            parsed[pid]['boxes'].append(extract_box(row))\n",
    "\n",
    "    return parsed"
   ]
  },
  {
   "cell_type": "code",
   "execution_count": 20,
   "metadata": {},
   "outputs": [],
   "source": [
    "parsed = parse_data(df)\n"
   ]
  },
  {
   "cell_type": "code",
   "execution_count": 21,
   "metadata": {},
   "outputs": [
    {
     "name": "stdout",
     "output_type": "stream",
     "text": [
      "{'dicom': 'stage_2_train_images/00436515-870c-4b36-a041-de91049b9ab4.dcm', 'label': 1, 'boxes': [[152.0, 264.0, 379.0, 213.0], [152.0, 562.0, 453.0, 256.0]]}\n",
      "{'dicom': 'stage_2_train_images/085a6486-c3b3-4ca2-80f1-be07d23e853b.dcm', 'label': 1, 'boxes': [[231.0, 665.0, 284.0, 185.0], [325.0, 147.0, 225.0, 158.0], [422.0, 332.0, 249.0, 155.0]]}\n"
     ]
    }
   ],
   "source": [
    "print(parsed['00436515-870c-4b36-a041-de91049b9ab4'])\n",
    "print(parsed['085a6486-c3b3-4ca2-80f1-be07d23e853b'])\n"
   ]
  },
  {
   "cell_type": "code",
   "execution_count": 22,
   "metadata": {},
   "outputs": [],
   "source": [
    "def draw(data):\n",
    "    \"\"\"\n",
    "    Method to draw single patient with bounding box(es) if present \n",
    "\n",
    "    \"\"\"\n",
    "    # --- Open DICOM file\n",
    "    d = pydicom.read_file(data['dicom'])\n",
    "    im = d.pixel_array\n",
    "\n",
    "    # --- Convert from single-channel grayscale to 3-channel RGB\n",
    "    im = np.stack([im] * 3, axis=2)\n",
    "\n",
    "    # --- Add boxes with random color if present\n",
    "    for box in data['boxes']:\n",
    "        rgb = np.floor(np.random.rand(3) * 256).astype('int')\n",
    "        im = overlay_box(im=im, box=box, rgb=rgb, stroke=6)\n",
    "\n",
    "    pylab.imshow(im, cmap=pylab.cm.gist_gray)\n",
    "    pylab.axis('off')\n",
    "\n",
    "def overlay_box(im, box, rgb, stroke=1):\n",
    "    \"\"\"\n",
    "    Method to overlay single box on image\n",
    "\n",
    "    \"\"\"\n",
    "    # --- Convert coordinates to integers\n",
    "    box = [int(b) for b in box]\n",
    "    \n",
    "    # --- Extract coordinates\n",
    "    y1, x1, height, width = box\n",
    "    y2 = y1 + height\n",
    "    x2 = x1 + width\n",
    "\n",
    "    im[y1:y1 + stroke, x1:x2] = rgb\n",
    "    im[y2:y2 + stroke, x1:x2] = rgb\n",
    "    im[y1:y2, x1:x1 + stroke] = rgb\n",
    "    im[y1:y2, x2:x2 + stroke] = rgb\n",
    "\n",
    "    return im"
   ]
  },
  {
   "cell_type": "code",
   "execution_count": 23,
   "metadata": {},
   "outputs": [
    {
     "data": {
      "image/png": "[encoded data removed]",
      "text/plain": [
       "<Figure size 432x288 with 1 Axes>"
      ]
     },
     "metadata": {
      "needs_background": "light"
     },
     "output_type": "display_data"
    }
   ],
   "source": [
    "draw(parsed['085a6486-c3b3-4ca2-80f1-be07d23e853b'])\n"
   ]
  },
  {
   "cell_type": "code",
   "execution_count": 25,
   "metadata": {},
   "outputs": [
    {
     "data": {
      "text/html": [
       "<div>\n",
       "<style scoped>\n",
       "    .dataframe tbody tr th:only-of-type {\n",
       "        vertical-align: middle;\n",
       "    }\n",
       "\n",
       "    .dataframe tbody tr th {\n",
       "        vertical-align: top;\n",
       "    }\n",
       "\n",
       "    .dataframe thead th {\n",
       "        text-align: right;\n",
       "    }\n",
       "</style>\n",
       "<table border=\"1\" class=\"dataframe\">\n",
       "  <thead>\n",
       "    <tr style=\"text-align: right;\">\n",
       "      <th></th>\n",
       "      <th>patientId</th>\n",
       "      <th>x</th>\n",
       "      <th>y</th>\n",
       "      <th>width</th>\n",
       "      <th>height</th>\n",
       "      <th>Target</th>\n",
       "    </tr>\n",
       "  </thead>\n",
       "  <tbody>\n",
       "    <tr>\n",
       "      <th>0</th>\n",
       "      <td>0004cfab-14fd-4e49-80ba-63a80b6bddd6</td>\n",
       "      <td>NaN</td>\n",
       "      <td>NaN</td>\n",
       "      <td>NaN</td>\n",
       "      <td>NaN</td>\n",
       "      <td>0</td>\n",
       "    </tr>\n",
       "    <tr>\n",
       "      <th>1</th>\n",
       "      <td>00313ee0-9eaa-42f4-b0ab-c148ed3241cd</td>\n",
       "      <td>NaN</td>\n",
       "      <td>NaN</td>\n",
       "      <td>NaN</td>\n",
       "      <td>NaN</td>\n",
       "      <td>0</td>\n",
       "    </tr>\n",
       "    <tr>\n",
       "      <th>2</th>\n",
       "      <td>00322d4d-1c29-4943-afc9-b6754be640eb</td>\n",
       "      <td>NaN</td>\n",
       "      <td>NaN</td>\n",
       "      <td>NaN</td>\n",
       "      <td>NaN</td>\n",
       "      <td>0</td>\n",
       "    </tr>\n",
       "    <tr>\n",
       "      <th>3</th>\n",
       "      <td>003d8fa0-6bf1-40ed-b54c-ac657f8495c5</td>\n",
       "      <td>NaN</td>\n",
       "      <td>NaN</td>\n",
       "      <td>NaN</td>\n",
       "      <td>NaN</td>\n",
       "      <td>0</td>\n",
       "    </tr>\n",
       "    <tr>\n",
       "      <th>4</th>\n",
       "      <td>00436515-870c-4b36-a041-de91049b9ab4</td>\n",
       "      <td>264.0</td>\n",
       "      <td>152.0</td>\n",
       "      <td>213.0</td>\n",
       "      <td>379.0</td>\n",
       "      <td>1</td>\n",
       "    </tr>\n",
       "    <tr>\n",
       "      <th>5</th>\n",
       "      <td>00436515-870c-4b36-a041-de91049b9ab4</td>\n",
       "      <td>562.0</td>\n",
       "      <td>152.0</td>\n",
       "      <td>256.0</td>\n",
       "      <td>453.0</td>\n",
       "      <td>1</td>\n",
       "    </tr>\n",
       "    <tr>\n",
       "      <th>6</th>\n",
       "      <td>00569f44-917d-4c86-a842-81832af98c30</td>\n",
       "      <td>NaN</td>\n",
       "      <td>NaN</td>\n",
       "      <td>NaN</td>\n",
       "      <td>NaN</td>\n",
       "      <td>0</td>\n",
       "    </tr>\n",
       "    <tr>\n",
       "      <th>7</th>\n",
       "      <td>006cec2e-6ce2-4549-bffa-eadfcd1e9970</td>\n",
       "      <td>NaN</td>\n",
       "      <td>NaN</td>\n",
       "      <td>NaN</td>\n",
       "      <td>NaN</td>\n",
       "      <td>0</td>\n",
       "    </tr>\n",
       "    <tr>\n",
       "      <th>8</th>\n",
       "      <td>00704310-78a8-4b38-8475-49f4573b2dbb</td>\n",
       "      <td>323.0</td>\n",
       "      <td>577.0</td>\n",
       "      <td>160.0</td>\n",
       "      <td>104.0</td>\n",
       "      <td>1</td>\n",
       "    </tr>\n",
       "    <tr>\n",
       "      <th>9</th>\n",
       "      <td>00704310-78a8-4b38-8475-49f4573b2dbb</td>\n",
       "      <td>695.0</td>\n",
       "      <td>575.0</td>\n",
       "      <td>162.0</td>\n",
       "      <td>137.0</td>\n",
       "      <td>1</td>\n",
       "    </tr>\n",
       "    <tr>\n",
       "      <th>10</th>\n",
       "      <td>008c19e8-a820-403a-930a-bc74a4053664</td>\n",
       "      <td>NaN</td>\n",
       "      <td>NaN</td>\n",
       "      <td>NaN</td>\n",
       "      <td>NaN</td>\n",
       "      <td>0</td>\n",
       "    </tr>\n",
       "    <tr>\n",
       "      <th>11</th>\n",
       "      <td>009482dc-3db5-48d4-8580-5c89c4f01334</td>\n",
       "      <td>NaN</td>\n",
       "      <td>NaN</td>\n",
       "      <td>NaN</td>\n",
       "      <td>NaN</td>\n",
       "      <td>0</td>\n",
       "    </tr>\n",
       "    <tr>\n",
       "      <th>12</th>\n",
       "      <td>009eb222-eabc-4150-8121-d5a6d06b8ebf</td>\n",
       "      <td>NaN</td>\n",
       "      <td>NaN</td>\n",
       "      <td>NaN</td>\n",
       "      <td>NaN</td>\n",
       "      <td>0</td>\n",
       "    </tr>\n",
       "    <tr>\n",
       "      <th>13</th>\n",
       "      <td>00a85be6-6eb0-421d-8acf-ff2dc0007e8a</td>\n",
       "      <td>NaN</td>\n",
       "      <td>NaN</td>\n",
       "      <td>NaN</td>\n",
       "      <td>NaN</td>\n",
       "      <td>0</td>\n",
       "    </tr>\n",
       "    <tr>\n",
       "      <th>14</th>\n",
       "      <td>00aecb01-a116-45a2-956c-08d2fa55433f</td>\n",
       "      <td>288.0</td>\n",
       "      <td>322.0</td>\n",
       "      <td>94.0</td>\n",
       "      <td>135.0</td>\n",
       "      <td>1</td>\n",
       "    </tr>\n",
       "    <tr>\n",
       "      <th>15</th>\n",
       "      <td>00aecb01-a116-45a2-956c-08d2fa55433f</td>\n",
       "      <td>547.0</td>\n",
       "      <td>299.0</td>\n",
       "      <td>119.0</td>\n",
       "      <td>165.0</td>\n",
       "      <td>1</td>\n",
       "    </tr>\n",
       "    <tr>\n",
       "      <th>16</th>\n",
       "      <td>00c0b293-48e7-4e16-ac76-9269ba535a62</td>\n",
       "      <td>306.0</td>\n",
       "      <td>544.0</td>\n",
       "      <td>168.0</td>\n",
       "      <td>244.0</td>\n",
       "      <td>1</td>\n",
       "    </tr>\n",
       "    <tr>\n",
       "      <th>17</th>\n",
       "      <td>00c0b293-48e7-4e16-ac76-9269ba535a62</td>\n",
       "      <td>650.0</td>\n",
       "      <td>511.0</td>\n",
       "      <td>206.0</td>\n",
       "      <td>284.0</td>\n",
       "      <td>1</td>\n",
       "    </tr>\n",
       "    <tr>\n",
       "      <th>18</th>\n",
       "      <td>00d7c36e-3cdf-4df6-ac03-6c30cdc8e85b</td>\n",
       "      <td>NaN</td>\n",
       "      <td>NaN</td>\n",
       "      <td>NaN</td>\n",
       "      <td>NaN</td>\n",
       "      <td>0</td>\n",
       "    </tr>\n",
       "    <tr>\n",
       "      <th>19</th>\n",
       "      <td>00f08de1-517e-4652-a04f-d1dc9ee48593</td>\n",
       "      <td>181.0</td>\n",
       "      <td>184.0</td>\n",
       "      <td>206.0</td>\n",
       "      <td>506.0</td>\n",
       "      <td>1</td>\n",
       "    </tr>\n",
       "    <tr>\n",
       "      <th>20</th>\n",
       "      <td>00f08de1-517e-4652-a04f-d1dc9ee48593</td>\n",
       "      <td>571.0</td>\n",
       "      <td>275.0</td>\n",
       "      <td>230.0</td>\n",
       "      <td>476.0</td>\n",
       "      <td>1</td>\n",
       "    </tr>\n",
       "    <tr>\n",
       "      <th>21</th>\n",
       "      <td>00f87de5-5fe0-4921-93ea-914d7e683266</td>\n",
       "      <td>NaN</td>\n",
       "      <td>NaN</td>\n",
       "      <td>NaN</td>\n",
       "      <td>NaN</td>\n",
       "      <td>0</td>\n",
       "    </tr>\n",
       "    <tr>\n",
       "      <th>22</th>\n",
       "      <td>0100515c-5204-4f31-98e0-f35e4b00004a</td>\n",
       "      <td>703.0</td>\n",
       "      <td>416.0</td>\n",
       "      <td>84.0</td>\n",
       "      <td>77.0</td>\n",
       "      <td>1</td>\n",
       "    </tr>\n",
       "    <tr>\n",
       "      <th>23</th>\n",
       "      <td>01027bc3-dc40-4165-a6c3-d6be2cb7ca34</td>\n",
       "      <td>NaN</td>\n",
       "      <td>NaN</td>\n",
       "      <td>NaN</td>\n",
       "      <td>NaN</td>\n",
       "      <td>0</td>\n",
       "    </tr>\n",
       "    <tr>\n",
       "      <th>24</th>\n",
       "      <td>010ccb9f-6d46-4380-af11-84f87397a1b8</td>\n",
       "      <td>652.0</td>\n",
       "      <td>437.0</td>\n",
       "      <td>161.0</td>\n",
       "      <td>293.0</td>\n",
       "      <td>1</td>\n",
       "    </tr>\n",
       "    <tr>\n",
       "      <th>25</th>\n",
       "      <td>010ccb9f-6d46-4380-af11-84f87397a1b8</td>\n",
       "      <td>301.0</td>\n",
       "      <td>405.0</td>\n",
       "      <td>141.0</td>\n",
       "      <td>279.0</td>\n",
       "      <td>1</td>\n",
       "    </tr>\n",
       "    <tr>\n",
       "      <th>26</th>\n",
       "      <td>011d6f51-b732-4d45-a84d-90477325ef2d</td>\n",
       "      <td>NaN</td>\n",
       "      <td>NaN</td>\n",
       "      <td>NaN</td>\n",
       "      <td>NaN</td>\n",
       "      <td>0</td>\n",
       "    </tr>\n",
       "    <tr>\n",
       "      <th>27</th>\n",
       "      <td>012a5620-d082-4bb8-9b3b-e72d8938000c</td>\n",
       "      <td>133.0</td>\n",
       "      <td>613.0</td>\n",
       "      <td>275.0</td>\n",
       "      <td>275.0</td>\n",
       "      <td>1</td>\n",
       "    </tr>\n",
       "    <tr>\n",
       "      <th>28</th>\n",
       "      <td>012a5620-d082-4bb8-9b3b-e72d8938000c</td>\n",
       "      <td>678.0</td>\n",
       "      <td>427.0</td>\n",
       "      <td>224.0</td>\n",
       "      <td>340.0</td>\n",
       "      <td>1</td>\n",
       "    </tr>\n",
       "    <tr>\n",
       "      <th>29</th>\n",
       "      <td>014b7b58-f641-4477-8bbc-ae6f337745d6</td>\n",
       "      <td>NaN</td>\n",
       "      <td>NaN</td>\n",
       "      <td>NaN</td>\n",
       "      <td>NaN</td>\n",
       "      <td>0</td>\n",
       "    </tr>\n",
       "    <tr>\n",
       "      <th>30</th>\n",
       "      <td>01538c3b-3de9-4fbb-95a8-732235821bbf</td>\n",
       "      <td>NaN</td>\n",
       "      <td>NaN</td>\n",
       "      <td>NaN</td>\n",
       "      <td>NaN</td>\n",
       "      <td>0</td>\n",
       "    </tr>\n",
       "    <tr>\n",
       "      <th>31</th>\n",
       "      <td>016b1f90-bb9a-4d3a-9c38-74af5fffd5b5</td>\n",
       "      <td>NaN</td>\n",
       "      <td>NaN</td>\n",
       "      <td>NaN</td>\n",
       "      <td>NaN</td>\n",
       "      <td>0</td>\n",
       "    </tr>\n",
       "    <tr>\n",
       "      <th>32</th>\n",
       "      <td>0174c4bb-28f5-41e3-a13f-a396badc18bd</td>\n",
       "      <td>155.0</td>\n",
       "      <td>182.0</td>\n",
       "      <td>273.0</td>\n",
       "      <td>501.0</td>\n",
       "      <td>1</td>\n",
       "    </tr>\n",
       "    <tr>\n",
       "      <th>33</th>\n",
       "      <td>0174c4bb-28f5-41e3-a13f-a396badc18bd</td>\n",
       "      <td>599.0</td>\n",
       "      <td>220.0</td>\n",
       "      <td>227.0</td>\n",
       "      <td>508.0</td>\n",
       "      <td>1</td>\n",
       "    </tr>\n",
       "    <tr>\n",
       "      <th>34</th>\n",
       "      <td>017c7b5b-618e-4bc9-943c-04c6a988d992</td>\n",
       "      <td>NaN</td>\n",
       "      <td>NaN</td>\n",
       "      <td>NaN</td>\n",
       "      <td>NaN</td>\n",
       "      <td>0</td>\n",
       "    </tr>\n",
       "    <tr>\n",
       "      <th>35</th>\n",
       "      <td>019ca122-9cdf-4704-b7a9-449c8a1c263e</td>\n",
       "      <td>NaN</td>\n",
       "      <td>NaN</td>\n",
       "      <td>NaN</td>\n",
       "      <td>NaN</td>\n",
       "      <td>0</td>\n",
       "    </tr>\n",
       "    <tr>\n",
       "      <th>36</th>\n",
       "      <td>019d950b-dd38-4cf3-a686-527a75728be6</td>\n",
       "      <td>229.0</td>\n",
       "      <td>318.0</td>\n",
       "      <td>250.0</td>\n",
       "      <td>301.0</td>\n",
       "      <td>1</td>\n",
       "    </tr>\n",
       "    <tr>\n",
       "      <th>37</th>\n",
       "      <td>019d950b-dd38-4cf3-a686-527a75728be6</td>\n",
       "      <td>604.0</td>\n",
       "      <td>216.0</td>\n",
       "      <td>196.0</td>\n",
       "      <td>328.0</td>\n",
       "      <td>1</td>\n",
       "    </tr>\n",
       "    <tr>\n",
       "      <th>38</th>\n",
       "      <td>019e035e-2f82-4c66-a198-57422a27925f</td>\n",
       "      <td>NaN</td>\n",
       "      <td>NaN</td>\n",
       "      <td>NaN</td>\n",
       "      <td>NaN</td>\n",
       "      <td>0</td>\n",
       "    </tr>\n",
       "    <tr>\n",
       "      <th>39</th>\n",
       "      <td>01a4059c-22f7-4f51-8a27-50aff0b3aeb3</td>\n",
       "      <td>NaN</td>\n",
       "      <td>NaN</td>\n",
       "      <td>NaN</td>\n",
       "      <td>NaN</td>\n",
       "      <td>0</td>\n",
       "    </tr>\n",
       "    <tr>\n",
       "      <th>40</th>\n",
       "      <td>01a5594f-e5d4-4f7a-b79d-3f57559fe37b</td>\n",
       "      <td>NaN</td>\n",
       "      <td>NaN</td>\n",
       "      <td>NaN</td>\n",
       "      <td>NaN</td>\n",
       "      <td>0</td>\n",
       "    </tr>\n",
       "    <tr>\n",
       "      <th>41</th>\n",
       "      <td>01a6eaa6-222f-4ea8-9874-bbd89dc1a1ce</td>\n",
       "      <td>141.0</td>\n",
       "      <td>306.0</td>\n",
       "      <td>225.0</td>\n",
       "      <td>327.0</td>\n",
       "      <td>1</td>\n",
       "    </tr>\n",
       "    <tr>\n",
       "      <th>42</th>\n",
       "      <td>01a6eaa6-222f-4ea8-9874-bbd89dc1a1ce</td>\n",
       "      <td>609.0</td>\n",
       "      <td>285.0</td>\n",
       "      <td>236.0</td>\n",
       "      <td>355.0</td>\n",
       "      <td>1</td>\n",
       "    </tr>\n",
       "    <tr>\n",
       "      <th>43</th>\n",
       "      <td>01a7353d-25bb-4ff8-916b-f50dd541dccf</td>\n",
       "      <td>214.0</td>\n",
       "      <td>582.0</td>\n",
       "      <td>239.0</td>\n",
       "      <td>133.0</td>\n",
       "      <td>1</td>\n",
       "    </tr>\n",
       "    <tr>\n",
       "      <th>44</th>\n",
       "      <td>01a7353d-25bb-4ff8-916b-f50dd541dccf</td>\n",
       "      <td>664.0</td>\n",
       "      <td>540.0</td>\n",
       "      <td>223.0</td>\n",
       "      <td>203.0</td>\n",
       "      <td>1</td>\n",
       "    </tr>\n",
       "    <tr>\n",
       "      <th>45</th>\n",
       "      <td>01aad2a6-3b93-45e3-bf37-2d73348cb6fc</td>\n",
       "      <td>NaN</td>\n",
       "      <td>NaN</td>\n",
       "      <td>NaN</td>\n",
       "      <td>NaN</td>\n",
       "      <td>0</td>\n",
       "    </tr>\n",
       "    <tr>\n",
       "      <th>46</th>\n",
       "      <td>01adfd2f-7bc7-4cef-ab68-a0992752b620</td>\n",
       "      <td>225.0</td>\n",
       "      <td>415.0</td>\n",
       "      <td>98.0</td>\n",
       "      <td>101.0</td>\n",
       "      <td>1</td>\n",
       "    </tr>\n",
       "    <tr>\n",
       "      <th>47</th>\n",
       "      <td>01b15f07-1149-4ff8-9756-bc821e41b97c</td>\n",
       "      <td>NaN</td>\n",
       "      <td>NaN</td>\n",
       "      <td>NaN</td>\n",
       "      <td>NaN</td>\n",
       "      <td>0</td>\n",
       "    </tr>\n",
       "    <tr>\n",
       "      <th>48</th>\n",
       "      <td>01b56434-4dd9-4994-bcc5-0b70a36e415a</td>\n",
       "      <td>NaN</td>\n",
       "      <td>NaN</td>\n",
       "      <td>NaN</td>\n",
       "      <td>NaN</td>\n",
       "      <td>0</td>\n",
       "    </tr>\n",
       "    <tr>\n",
       "      <th>49</th>\n",
       "      <td>01b9e362-4950-40f5-88fa-7557ac2a45bb</td>\n",
       "      <td>366.0</td>\n",
       "      <td>289.0</td>\n",
       "      <td>208.0</td>\n",
       "      <td>527.0</td>\n",
       "      <td>1</td>\n",
       "    </tr>\n",
       "  </tbody>\n",
       "</table>\n",
       "</div>"
      ],
      "text/plain": [
       "                               patientId      x      y  width  height  Target\n",
       "0   0004cfab-14fd-4e49-80ba-63a80b6bddd6    NaN    NaN    NaN     NaN       0\n",
       "1   00313ee0-9eaa-42f4-b0ab-c148ed3241cd    NaN    NaN    NaN     NaN       0\n",
       "2   00322d4d-1c29-4943-afc9-b6754be640eb    NaN    NaN    NaN     NaN       0\n",
       "3   003d8fa0-6bf1-40ed-b54c-ac657f8495c5    NaN    NaN    NaN     NaN       0\n",
       "4   00436515-870c-4b36-a041-de91049b9ab4  264.0  152.0  213.0   379.0       1\n",
       "5   00436515-870c-4b36-a041-de91049b9ab4  562.0  152.0  256.0   453.0       1\n",
       "6   00569f44-917d-4c86-a842-81832af98c30    NaN    NaN    NaN     NaN       0\n",
       "7   006cec2e-6ce2-4549-bffa-eadfcd1e9970    NaN    NaN    NaN     NaN       0\n",
       "8   00704310-78a8-4b38-8475-49f4573b2dbb  323.0  577.0  160.0   104.0       1\n",
       "9   00704310-78a8-4b38-8475-49f4573b2dbb  695.0  575.0  162.0   137.0       1\n",
       "10  008c19e8-a820-403a-930a-bc74a4053664    NaN    NaN    NaN     NaN       0\n",
       "11  009482dc-3db5-48d4-8580-5c89c4f01334    NaN    NaN    NaN     NaN       0\n",
       "12  009eb222-eabc-4150-8121-d5a6d06b8ebf    NaN    NaN    NaN     NaN       0\n",
       "13  00a85be6-6eb0-421d-8acf-ff2dc0007e8a    NaN    NaN    NaN     NaN       0\n",
       "14  00aecb01-a116-45a2-956c-08d2fa55433f  288.0  322.0   94.0   135.0       1\n",
       "15  00aecb01-a116-45a2-956c-08d2fa55433f  547.0  299.0  119.0   165.0       1\n",
       "16  00c0b293-48e7-4e16-ac76-9269ba535a62  306.0  544.0  168.0   244.0       1\n",
       "17  00c0b293-48e7-4e16-ac76-9269ba535a62  650.0  511.0  206.0   284.0       1\n",
       "18  00d7c36e-3cdf-4df6-ac03-6c30cdc8e85b    NaN    NaN    NaN     NaN       0\n",
       "19  00f08de1-517e-4652-a04f-d1dc9ee48593  181.0  184.0  206.0   506.0       1\n",
       "20  00f08de1-517e-4652-a04f-d1dc9ee48593  571.0  275.0  230.0   476.0       1\n",
       "21  00f87de5-5fe0-4921-93ea-914d7e683266    NaN    NaN    NaN     NaN       0\n",
       "22  0100515c-5204-4f31-98e0-f35e4b00004a  703.0  416.0   84.0    77.0       1\n",
       "23  01027bc3-dc40-4165-a6c3-d6be2cb7ca34    NaN    NaN    NaN     NaN       0\n",
       "24  010ccb9f-6d46-4380-af11-84f87397a1b8  652.0  437.0  161.0   293.0       1\n",
       "25  010ccb9f-6d46-4380-af11-84f87397a1b8  301.0  405.0  141.0   279.0       1\n",
       "26  011d6f51-b732-4d45-a84d-90477325ef2d    NaN    NaN    NaN     NaN       0\n",
       "27  012a5620-d082-4bb8-9b3b-e72d8938000c  133.0  613.0  275.0   275.0       1\n",
       "28  012a5620-d082-4bb8-9b3b-e72d8938000c  678.0  427.0  224.0   340.0       1\n",
       "29  014b7b58-f641-4477-8bbc-ae6f337745d6    NaN    NaN    NaN     NaN       0\n",
       "30  01538c3b-3de9-4fbb-95a8-732235821bbf    NaN    NaN    NaN     NaN       0\n",
       "31  016b1f90-bb9a-4d3a-9c38-74af5fffd5b5    NaN    NaN    NaN     NaN       0\n",
       "32  0174c4bb-28f5-41e3-a13f-a396badc18bd  155.0  182.0  273.0   501.0       1\n",
       "33  0174c4bb-28f5-41e3-a13f-a396badc18bd  599.0  220.0  227.0   508.0       1\n",
       "34  017c7b5b-618e-4bc9-943c-04c6a988d992    NaN    NaN    NaN     NaN       0\n",
       "35  019ca122-9cdf-4704-b7a9-449c8a1c263e    NaN    NaN    NaN     NaN       0\n",
       "36  019d950b-dd38-4cf3-a686-527a75728be6  229.0  318.0  250.0   301.0       1\n",
       "37  019d950b-dd38-4cf3-a686-527a75728be6  604.0  216.0  196.0   328.0       1\n",
       "38  019e035e-2f82-4c66-a198-57422a27925f    NaN    NaN    NaN     NaN       0\n",
       "39  01a4059c-22f7-4f51-8a27-50aff0b3aeb3    NaN    NaN    NaN     NaN       0\n",
       "40  01a5594f-e5d4-4f7a-b79d-3f57559fe37b    NaN    NaN    NaN     NaN       0\n",
       "41  01a6eaa6-222f-4ea8-9874-bbd89dc1a1ce  141.0  306.0  225.0   327.0       1\n",
       "42  01a6eaa6-222f-4ea8-9874-bbd89dc1a1ce  609.0  285.0  236.0   355.0       1\n",
       "43  01a7353d-25bb-4ff8-916b-f50dd541dccf  214.0  582.0  239.0   133.0       1\n",
       "44  01a7353d-25bb-4ff8-916b-f50dd541dccf  664.0  540.0  223.0   203.0       1\n",
       "45  01aad2a6-3b93-45e3-bf37-2d73348cb6fc    NaN    NaN    NaN     NaN       0\n",
       "46  01adfd2f-7bc7-4cef-ab68-a0992752b620  225.0  415.0   98.0   101.0       1\n",
       "47  01b15f07-1149-4ff8-9756-bc821e41b97c    NaN    NaN    NaN     NaN       0\n",
       "48  01b56434-4dd9-4994-bcc5-0b70a36e415a    NaN    NaN    NaN     NaN       0\n",
       "49  01b9e362-4950-40f5-88fa-7557ac2a45bb  366.0  289.0  208.0   527.0       1"
      ]
     },
     "execution_count": 25,
     "metadata": {},
     "output_type": "execute_result"
    }
   ],
   "source": [
    "df.head(50)\n"
   ]
  },
  {
   "cell_type": "code",
   "execution_count": 26,
   "metadata": {},
   "outputs": [
    {
     "name": "stdout",
     "output_type": "stream",
     "text": [
      "<class 'pandas.core.frame.DataFrame'>\n",
      "RangeIndex: 30227 entries, 0 to 30226\n",
      "Data columns (total 6 columns):\n",
      "patientId    30227 non-null object\n",
      "x            9555 non-null float64\n",
      "y            9555 non-null float64\n",
      "width        9555 non-null float64\n",
      "height       9555 non-null float64\n",
      "Target       30227 non-null int64\n",
      "dtypes: float64(4), int64(1), object(1)\n",
      "memory usage: 1.4+ MB\n"
     ]
    }
   ],
   "source": [
    "df.info()\n"
   ]
  },
  {
   "cell_type": "code",
   "execution_count": 28,
   "metadata": {},
   "outputs": [
    {
     "data": {
      "text/plain": [
       "31764d54-ea3b-434f-bae2-8c579ed13799    4\n",
       "ee820aa5-4804-4984-97b3-f0a71d69702f    4\n",
       "76f71a93-8105-4c79-a010-0cfa86f0061a    4\n",
       "8dc8e54b-5b05-4dac-80b9-fa48878621e2    4\n",
       "0ab261f9-4eb5-42ab-a9a5-e918904d6356    4\n",
       "32408669-c137-4e8d-bd62-fe8345b40e73    4\n",
       "349f10b4-dc3e-4f3f-b2e4-a5b81448ce87    4\n",
       "0d5bc737-03de-4bb8-98a1-45b7180c3e0f    4\n",
       "1bf08f3b-a273-4f51-bafa-b55ada2c23b5    4\n",
       "7d674c82-5501-4730-92c5-d241fd6911e7    4\n",
       "1c44e0a4-4612-438f-9a83-8d5bf919cb67    4\n",
       "3239951b-6211-4290-b237-3d9ad17176db    4\n",
       "0e03c2d7-9cea-4dc7-8e91-794a8b3ff58d    4\n",
       "d947215e-c4c5-4907-8d47-0735a0ba4fb9    3\n",
       "784a3ed0-2565-430f-819f-f713e1775344    3\n",
       "338a1c2f-60a7-4656-ba2c-8c99103da696    3\n",
       "338e80a6-7b26-4133-b051-a40e063d39a3    3\n",
       "6c490407-f039-4eaf-94c8-1bff41b09f6c    3\n",
       "3fdcd01b-1029-40c9-be8a-a72876d0323b    3\n",
       "228b3dc1-f78a-4ac9-b213-2a416583d063    3\n",
       "e3884258-8083-4b8e-b952-9adc91a7f0f3    3\n",
       "c252072c-c7c9-40a8-819b-5c7952d10bf2    3\n",
       "3218b157-1f46-4da3-863f-9b97ae22308f    3\n",
       "3c1fdc6b-2e9a-46f7-8dbd-28d4155f9b93    3\n",
       "316eed14-0f52-44f9-8be0-12e045324a4a    3\n",
       "77762e93-073c-405f-bca5-0f1fd339bf4c    3\n",
       "8540e870-c8f7-494d-a779-a5fba52040b3    3\n",
       "73dec8bd-601a-4cbe-9ae8-336c5cbd77e2    3\n",
       "bc5360ed-0247-47b8-93a0-c34ebbf936bb    3\n",
       "36d7ebd2-a4e5-42d1-bde0-c7699da0b152    3\n",
       "1565fd6c-9432-454a-87e4-937fd5ad5b60    3\n",
       "7bfc500f-2f54-42ab-ae52-50be710e1c08    3\n",
       "f743c21e-5876-460b-bbd6-2e2dcca41baa    3\n",
       "2673d0ba-ab94-4aac-8a9f-1599818c2c12    3\n",
       "3f167f68-6cde-478d-8e78-9ae22529c22f    3\n",
       "12b4c5bc-48cb-4010-9b2e-eeb8b0d5cc8e    3\n",
       "b6ab1a11-6558-4f76-bed2-3b169f820be9    3\n",
       "0bf44996-58da-4a12-8be1-da5c9b009975    3\n",
       "78221b16-5fd9-4a99-a966-56b693c2e5d7    3\n",
       "78c9b88e-a134-4470-b161-22e4a698206c    3\n",
       "ac4bf897-0752-4095-9404-1e6ff42a1dfb    3\n",
       "1db7e52d-7a40-49ff-9f24-bc72a33f9c23    3\n",
       "1c184066-163f-4941-9794-43e8ca7fe77b    3\n",
       "f1ba6a94-27b8-4537-8a11-6c4dbc3fe428    3\n",
       "13e0c332-c269-40a3-9026-02a0f11a4dbd    3\n",
       "ace3688f-2479-4468-9759-1e9a1fe02d6f    3\n",
       "aec75bea-7a4a-4ca6-8e82-bf3f05963c9d    3\n",
       "1d57c801-71b4-49da-8933-2cabdc927fef    3\n",
       "085a6486-c3b3-4ca2-80f1-be07d23e853b    3\n",
       "e17e53a5-916f-40c8-9c9c-dcc01031aa46    3\n",
       "Name: patientId, dtype: int64"
      ]
     },
     "execution_count": 28,
     "metadata": {},
     "output_type": "execute_result"
    }
   ],
   "source": [
    "df['patientId'].value_counts().head(50)"
   ]
  },
  {
   "cell_type": "code",
   "execution_count": 29,
   "metadata": {},
   "outputs": [
    {
     "data": {
      "text/plain": [
       "1    23286\n",
       "2     3266\n",
       "3      119\n",
       "4       13\n",
       "Name: patientId, dtype: int64"
      ]
     },
     "execution_count": 29,
     "metadata": {},
     "output_type": "execute_result"
    }
   ],
   "source": [
    "#Count of rows per patientID has 4 values:\n",
    "\n",
    "df['patientId'].value_counts().value_counts()\n"
   ]
  },
  {
   "cell_type": "code",
   "execution_count": 30,
   "metadata": {},
   "outputs": [
    {
     "data": {
      "text/plain": [
       "1    20672\n",
       "Name: patientId, dtype: int64"
      ]
     },
     "execution_count": 30,
     "metadata": {},
     "output_type": "execute_result"
    }
   ],
   "source": [
    "#Each of patients without pneumonia has only one row in dataset:\n",
    "\n",
    "df[df['Target'] == 0]['patientId'].value_counts().value_counts()\n"
   ]
  },
  {
   "cell_type": "code",
   "execution_count": 31,
   "metadata": {},
   "outputs": [],
   "source": [
    "import matplotlib.pyplot as plt\n",
    "import seaborn as sns"
   ]
  },
  {
   "cell_type": "code",
   "execution_count": 33,
   "metadata": {},
   "outputs": [],
   "source": [
    "#Load additional Data\n"
   ]
  },
  {
   "cell_type": "code",
   "execution_count": 34,
   "metadata": {},
   "outputs": [],
   "source": [
    "class_info = pd.read_csv('stage_2_detailed_class_info.csv')\n",
    "train_labels = pd.read_csv('stage_2_train_labels.csv')"
   ]
  },
  {
   "cell_type": "code",
   "execution_count": 36,
   "metadata": {},
   "outputs": [],
   "source": [
    "df_marged = pd.merge(left = class_info, right = train_labels, how = 'left', on = 'patientId')\n"
   ]
  },
  {
   "cell_type": "code",
   "execution_count": 37,
   "metadata": {},
   "outputs": [
    {
     "name": "stdout",
     "output_type": "stream",
     "text": [
      "<class 'pandas.core.frame.DataFrame'>\n",
      "Int64Index: 37629 entries, 0 to 37628\n",
      "Data columns (total 7 columns):\n",
      "patientId    37629 non-null object\n",
      "class        37629 non-null object\n",
      "x            16957 non-null float64\n",
      "y            16957 non-null float64\n",
      "width        16957 non-null float64\n",
      "height       16957 non-null float64\n",
      "Target       37629 non-null int64\n",
      "dtypes: float64(4), int64(1), object(2)\n",
      "memory usage: 2.3+ MB\n"
     ]
    }
   ],
   "source": [
    "df_marged.info(null_counts = True)"
   ]
  },
  {
   "cell_type": "code",
   "execution_count": 38,
   "metadata": {},
   "outputs": [
    {
     "name": "stdout",
     "output_type": "stream",
     "text": [
      "<class 'pandas.core.frame.DataFrame'>\n",
      "Int64Index: 30227 entries, 0 to 37626\n",
      "Data columns (total 7 columns):\n",
      "patientId    30227 non-null object\n",
      "class        30227 non-null object\n",
      "x            9555 non-null float64\n",
      "y            9555 non-null float64\n",
      "width        9555 non-null float64\n",
      "height       9555 non-null float64\n",
      "Target       30227 non-null int64\n",
      "dtypes: float64(4), int64(1), object(2)\n",
      "memory usage: 1.8+ MB\n"
     ]
    }
   ],
   "source": [
    "df_marged = df_marged.drop_duplicates()\n",
    "df_marged.info()"
   ]
  },
  {
   "cell_type": "code",
   "execution_count": 40,
   "metadata": {},
   "outputs": [
    {
     "data": {
      "image/png": "[encoded data removed]",
      "text/plain": [
       "<Figure size 432x288 with 1 Axes>"
      ]
     },
     "metadata": {
      "needs_background": "light"
     },
     "output_type": "display_data"
    }
   ],
   "source": [
    "sns.countplot(x = 'class', hue = 'Target', data = df_marged);\n"
   ]
  },
  {
   "cell_type": "code",
   "execution_count": null,
   "metadata": {},
   "outputs": [],
   "source": []
  }
 ],
 "metadata": {
  "kernelspec": {
   "display_name": "Python 3",
   "language": "python",
   "name": "python3"
  },
  "language_info": {
   "codemirror_mode": {
    "name": "ipython",
    "version": 3
   },
   "file_extension": ".py",
   "mimetype": "text/x-python",
   "name": "python",
   "nbconvert_exporter": "python",
   "pygments_lexer": "ipython3",
   "version": "3.7.3"
  }
 },
 "nbformat": 4,
 "nbformat_minor": 2
}
